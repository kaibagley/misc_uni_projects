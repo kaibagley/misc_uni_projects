{
 "cells": [
  {
   "cell_type": "markdown",
   "id": "37ef5acf",
   "metadata": {},
   "source": [
    "# Project 2\n",
    "Kai Bagley - 21984315\n",
    "\n",
    "* Data Exploration\n",
    "* Preprocessing, and\n",
    "* Task 1"
   ]
  },
  {
   "cell_type": "markdown",
   "id": "cfc31947",
   "metadata": {},
   "source": [
    "### Objective"
   ]
  },
  {
   "cell_type": "markdown",
   "id": "fc25b742",
   "metadata": {},
   "source": [
    "I will be trying two different language models on two NLP tasks: Document Classification and Entity Recognition.\n",
    "\n",
    "This will be done on the US Mining Safety Logs data set, which records the injuries of employees working in the mining industry. This dataset includes the structured fields (and more):\n",
    "\n",
    "* `NATURE_INJURY`: Nature of the injury, eg. `SPRAIN`.\n",
    "* `INJ_BODY_PART`: Injured body part, eg. `HEAD`.\n",
    "* `ACTIVITY`: Activity that was being done at the time of injury, eg. `HAND_TOOLS`.\n",
    "* `INJURY_SOURCE`: Source of injury, eg. `AXE`.\n",
    "\n",
    "There is also a `NARRATIVE` field that contains unstructured short texts describing the incident in detail. This ifield contains valuable information which could help improve workplace safety.\n",
    "\n",
    "I will be attempting to retrieve useful information from the narratives using document classification and entity recognition."
   ]
  },
  {
   "cell_type": "markdown",
   "id": "e7d1da10",
   "metadata": {},
   "source": [
    "## Data Exploration"
   ]
  },
  {
   "cell_type": "markdown",
   "id": "ff145dac",
   "metadata": {},
   "source": [
    "#### Imports"
   ]
  },
  {
   "cell_type": "code",
   "execution_count": 1,
   "id": "cf462695",
   "metadata": {},
   "outputs": [],
   "source": [
    "import pandas as pd\n",
    "import numpy as np\n",
    "import matplotlib.pyplot as plt\n",
    "import torch\n",
    "import torch.nn as nn\n",
    "import torch.nn.functional as F\n",
    "from tqdm.notebook import tqdm\n",
    "\n",
    "from sklearn.model_selection import train_test_split"
   ]
  },
  {
   "cell_type": "markdown",
   "id": "37a792eb",
   "metadata": {},
   "source": [
    "#### Load data"
   ]
  },
  {
   "cell_type": "code",
   "execution_count": 2,
   "id": "7a0924ab",
   "metadata": {
    "scrolled": true
   },
   "outputs": [
    {
     "data": {
      "text/html": [
       "<div>\n",
       "<style scoped>\n",
       "    .dataframe tbody tr th:only-of-type {\n",
       "        vertical-align: middle;\n",
       "    }\n",
       "\n",
       "    .dataframe tbody tr th {\n",
       "        vertical-align: top;\n",
       "    }\n",
       "\n",
       "    .dataframe thead th {\n",
       "        text-align: right;\n",
       "    }\n",
       "</style>\n",
       "<table border=\"1\" class=\"dataframe\">\n",
       "  <thead>\n",
       "    <tr style=\"text-align: right;\">\n",
       "      <th></th>\n",
       "      <th>DEGREE_INJURY_CD</th>\n",
       "      <th>DEGREE_INJURY</th>\n",
       "      <th>ACTIVITY_CD</th>\n",
       "      <th>ACTIVITY</th>\n",
       "      <th>INJURY_SOURCE_CD</th>\n",
       "      <th>INJURY_SOURCE</th>\n",
       "      <th>NATURE_INJURY_CD</th>\n",
       "      <th>NATURE_INJURY</th>\n",
       "      <th>INJ_BODY_PART_CD</th>\n",
       "      <th>INJ_BODY_PART</th>\n",
       "      <th>NARRATIVE</th>\n",
       "    </tr>\n",
       "  </thead>\n",
       "  <tbody>\n",
       "    <tr>\n",
       "      <th>0</th>\n",
       "      <td>5</td>\n",
       "      <td>DAYS RESTRICTED ACTIVITY ONLY</td>\n",
       "      <td>28</td>\n",
       "      <td>HANDLING SUPPLIES/MATERIALS</td>\n",
       "      <td>76</td>\n",
       "      <td>SURFACE MINING MACHINES</td>\n",
       "      <td>160</td>\n",
       "      <td>CONTUSN,BRUISE,INTAC SKIN</td>\n",
       "      <td>700</td>\n",
       "      <td>MULTIPLE PARTS (MORE THAN ONE MAJOR)</td>\n",
       "      <td>Employee was cleaning up at the Primary Crushe...</td>\n",
       "    </tr>\n",
       "    <tr>\n",
       "      <th>1</th>\n",
       "      <td>6</td>\n",
       "      <td>NO DYS AWY FRM WRK,NO RSTR ACT</td>\n",
       "      <td>30</td>\n",
       "      <td>HAND TOOLS (NOT POWERED)</td>\n",
       "      <td>46</td>\n",
       "      <td>AXE,HAMMER,SLEDGE</td>\n",
       "      <td>180</td>\n",
       "      <td>CUT,LACER,PUNCT-OPN WOUND</td>\n",
       "      <td>100</td>\n",
       "      <td>HEAD,NEC</td>\n",
       "      <td>Handle of sledgehammer broke and head of hamme...</td>\n",
       "    </tr>\n",
       "    <tr>\n",
       "      <th>2</th>\n",
       "      <td>3</td>\n",
       "      <td>DAYS AWAY FROM WORK ONLY</td>\n",
       "      <td>13</td>\n",
       "      <td>CLIMB SCAFFOLDS/LADDERS/PLATFORMS</td>\n",
       "      <td>117</td>\n",
       "      <td>GROUND</td>\n",
       "      <td>330</td>\n",
       "      <td>SPRAIN,STRAIN RUPT DISC</td>\n",
       "      <td>520</td>\n",
       "      <td>ANKLE</td>\n",
       "      <td>EMPLOYEE WAS CLIMBING DOWN A LADDER AND WHEN H...</td>\n",
       "    </tr>\n",
       "    <tr>\n",
       "      <th>3</th>\n",
       "      <td>5</td>\n",
       "      <td>DAYS RESTRICTED ACTIVITY ONLY</td>\n",
       "      <td>28</td>\n",
       "      <td>HANDLING SUPPLIES/MATERIALS</td>\n",
       "      <td>4</td>\n",
       "      <td>BAGS</td>\n",
       "      <td>330</td>\n",
       "      <td>SPRAIN,STRAIN RUPT DISC</td>\n",
       "      <td>420</td>\n",
       "      <td>BACK (MUSCLES/SPINE/S-CORD/TAILBONE)</td>\n",
       "      <td>HE PULLED A BACK MUSCLE WHILE STACKING BAGS OF...</td>\n",
       "    </tr>\n",
       "    <tr>\n",
       "      <th>4</th>\n",
       "      <td>5</td>\n",
       "      <td>DAYS RESTRICTED ACTIVITY ONLY</td>\n",
       "      <td>96</td>\n",
       "      <td>WORKING WITH CHEMICALS</td>\n",
       "      <td>21</td>\n",
       "      <td>ACIDS,ALKALI,WET CEMENT</td>\n",
       "      <td>130</td>\n",
       "      <td>BURN,CHEMICL-FUME,COMPOUN</td>\n",
       "      <td>330</td>\n",
       "      <td>HAND (NOT WRIST OR FINGERS)</td>\n",
       "      <td>EE hands began to break out in a rash after he...</td>\n",
       "    </tr>\n",
       "  </tbody>\n",
       "</table>\n",
       "</div>"
      ],
      "text/plain": [
       "  DEGREE_INJURY_CD                   DEGREE_INJURY ACTIVITY_CD  \\\n",
       "0                5   DAYS RESTRICTED ACTIVITY ONLY          28   \n",
       "1                6  NO DYS AWY FRM WRK,NO RSTR ACT          30   \n",
       "2                3        DAYS AWAY FROM WORK ONLY          13   \n",
       "3                5   DAYS RESTRICTED ACTIVITY ONLY          28   \n",
       "4                5   DAYS RESTRICTED ACTIVITY ONLY          96   \n",
       "\n",
       "                            ACTIVITY INJURY_SOURCE_CD  \\\n",
       "0        HANDLING SUPPLIES/MATERIALS               76   \n",
       "1           HAND TOOLS (NOT POWERED)               46   \n",
       "2  CLIMB SCAFFOLDS/LADDERS/PLATFORMS              117   \n",
       "3        HANDLING SUPPLIES/MATERIALS                4   \n",
       "4             WORKING WITH CHEMICALS               21   \n",
       "\n",
       "             INJURY_SOURCE NATURE_INJURY_CD              NATURE_INJURY  \\\n",
       "0  SURFACE MINING MACHINES              160  CONTUSN,BRUISE,INTAC SKIN   \n",
       "1        AXE,HAMMER,SLEDGE              180  CUT,LACER,PUNCT-OPN WOUND   \n",
       "2                   GROUND              330    SPRAIN,STRAIN RUPT DISC   \n",
       "3                     BAGS              330    SPRAIN,STRAIN RUPT DISC   \n",
       "4  ACIDS,ALKALI,WET CEMENT              130  BURN,CHEMICL-FUME,COMPOUN   \n",
       "\n",
       "  INJ_BODY_PART_CD                         INJ_BODY_PART  \\\n",
       "0              700  MULTIPLE PARTS (MORE THAN ONE MAJOR)   \n",
       "1              100                              HEAD,NEC   \n",
       "2              520                                 ANKLE   \n",
       "3              420  BACK (MUSCLES/SPINE/S-CORD/TAILBONE)   \n",
       "4              330           HAND (NOT WRIST OR FINGERS)   \n",
       "\n",
       "                                           NARRATIVE  \n",
       "0  Employee was cleaning up at the Primary Crushe...  \n",
       "1  Handle of sledgehammer broke and head of hamme...  \n",
       "2  EMPLOYEE WAS CLIMBING DOWN A LADDER AND WHEN H...  \n",
       "3  HE PULLED A BACK MUSCLE WHILE STACKING BAGS OF...  \n",
       "4  EE hands began to break out in a rash after he...  "
      ]
     },
     "execution_count": 2,
     "metadata": {},
     "output_type": "execute_result"
    }
   ],
   "source": [
    "cols = [\"DEGREE_INJURY\", \n",
    "        \"DEGREE_INJURY_CD\",\n",
    "        \"NATURE_INJURY\",\n",
    "        \"NATURE_INJURY_CD\",\n",
    "        \"INJ_BODY_PART\",\n",
    "        \"INJ_BODY_PART_CD\",\n",
    "        \"ACTIVITY\",\n",
    "        \"ACTIVITY_CD\",\n",
    "        \"INJURY_SOURCE\",\n",
    "        \"INJURY_SOURCE_CD\",\n",
    "        \"NARRATIVE\"]\n",
    "\n",
    "df = pd.read_csv(\"./data/us_data_2000.csv\", usecols=cols)\n",
    "df.head()"
   ]
  },
  {
   "cell_type": "markdown",
   "id": "499ac9d9",
   "metadata": {},
   "source": [
    "#### Train/Test Split"
   ]
  },
  {
   "cell_type": "markdown",
   "id": "d2417d0f",
   "metadata": {},
   "source": [
    "This step requires a 80/20 Train/Test split, but also requires a validation set. The way I interpret this requirement is to do a 80/20 split to give `train` and `test` sets, and then I will take another 20% split from the `train` set to give `train` and `valid`. `train` will be overwritten such that the split is actually 60/20/20 train/test/valid.\n",
    "\n",
    "Before we do any of that, I will first drop any `na` occurences, and any with a class label `?`."
   ]
  },
  {
   "cell_type": "code",
   "execution_count": 3,
   "id": "81345438",
   "metadata": {},
   "outputs": [],
   "source": [
    "df = df[df[\"NARRATIVE\"].notnull()]\n",
    "\n",
    "df = df.drop(df[df[\"DEGREE_INJURY_CD\"]==\"?\"].index)\n",
    "df = df.drop(df[df[\"ACTIVITY_CD\"]==\"?\"].index)"
   ]
  },
  {
   "cell_type": "markdown",
   "id": "3682de69",
   "metadata": {},
   "source": [
    "Since task 1 is a binary classification problem, the first class will contain all incidents where the accident was known to impact the activity of the person (eg. `FATALITY`, `DAYS_RESTRICTED_ACTIVITY_ONLY`, etc), and the second class will be everything else (unknown impact `ACCIDENT_ONLY` etc. included). Task 1 only requires `NARRATIVE`, `DEGREE_INJURY` and `DEGREE_INJURY_CD` only."
   ]
  },
  {
   "cell_type": "markdown",
   "id": "c86d435f",
   "metadata": {},
   "source": [
    "#### Task 1 Preprocessing"
   ]
  },
  {
   "cell_type": "code",
   "execution_count": 4,
   "id": "19f4127b",
   "metadata": {},
   "outputs": [
    {
     "data": {
      "text/html": [
       "<div>\n",
       "<style scoped>\n",
       "    .dataframe tbody tr th:only-of-type {\n",
       "        vertical-align: middle;\n",
       "    }\n",
       "\n",
       "    .dataframe tbody tr th {\n",
       "        vertical-align: top;\n",
       "    }\n",
       "\n",
       "    .dataframe thead th {\n",
       "        text-align: right;\n",
       "    }\n",
       "</style>\n",
       "<table border=\"1\" class=\"dataframe\">\n",
       "  <thead>\n",
       "    <tr style=\"text-align: right;\">\n",
       "      <th></th>\n",
       "      <th>DEGREE_INJURY_CD</th>\n",
       "      <th>DEGREE_INJURY</th>\n",
       "      <th>NARRATIVE</th>\n",
       "    </tr>\n",
       "  </thead>\n",
       "  <tbody>\n",
       "    <tr>\n",
       "      <th>0</th>\n",
       "      <td>0</td>\n",
       "      <td>DAYS RESTRICTED ACTIVITY ONLY</td>\n",
       "      <td>Employee was cleaning up at the Primary Crushe...</td>\n",
       "    </tr>\n",
       "    <tr>\n",
       "      <th>1</th>\n",
       "      <td>1</td>\n",
       "      <td>NO DYS AWY FRM WRK,NO RSTR ACT</td>\n",
       "      <td>Handle of sledgehammer broke and head of hamme...</td>\n",
       "    </tr>\n",
       "    <tr>\n",
       "      <th>2</th>\n",
       "      <td>0</td>\n",
       "      <td>DAYS AWAY FROM WORK ONLY</td>\n",
       "      <td>EMPLOYEE WAS CLIMBING DOWN A LADDER AND WHEN H...</td>\n",
       "    </tr>\n",
       "    <tr>\n",
       "      <th>3</th>\n",
       "      <td>0</td>\n",
       "      <td>DAYS RESTRICTED ACTIVITY ONLY</td>\n",
       "      <td>HE PULLED A BACK MUSCLE WHILE STACKING BAGS OF...</td>\n",
       "    </tr>\n",
       "    <tr>\n",
       "      <th>4</th>\n",
       "      <td>0</td>\n",
       "      <td>DAYS RESTRICTED ACTIVITY ONLY</td>\n",
       "      <td>EE hands began to break out in a rash after he...</td>\n",
       "    </tr>\n",
       "  </tbody>\n",
       "</table>\n",
       "</div>"
      ],
      "text/plain": [
       "   DEGREE_INJURY_CD                   DEGREE_INJURY  \\\n",
       "0                 0   DAYS RESTRICTED ACTIVITY ONLY   \n",
       "1                 1  NO DYS AWY FRM WRK,NO RSTR ACT   \n",
       "2                 0        DAYS AWAY FROM WORK ONLY   \n",
       "3                 0   DAYS RESTRICTED ACTIVITY ONLY   \n",
       "4                 0   DAYS RESTRICTED ACTIVITY ONLY   \n",
       "\n",
       "                                           NARRATIVE  \n",
       "0  Employee was cleaning up at the Primary Crushe...  \n",
       "1  Handle of sledgehammer broke and head of hamme...  \n",
       "2  EMPLOYEE WAS CLIMBING DOWN A LADDER AND WHEN H...  \n",
       "3  HE PULLED A BACK MUSCLE WHILE STACKING BAGS OF...  \n",
       "4  EE hands began to break out in a rash after he...  "
      ]
     },
     "execution_count": 4,
     "metadata": {},
     "output_type": "execute_result"
    }
   ],
   "source": [
    "# Get rows where injury code = [1, 2, 3, 4, 5] (described above)\n",
    "cls0 = [\"1\", \"2\", \"3\", \"4\", \"5\"]\n",
    "cls1 = [str(x) for x in range(13) if x not in cls0]\n",
    "\n",
    "binary_class_dict = {1:\"Serious Injury\", 0:\"Non-Serious Injury\"}\n",
    "\n",
    "task1_df = df[[\"DEGREE_INJURY_CD\", \"DEGREE_INJURY\", \"NARRATIVE\"]].copy()\n",
    "task1_df[\"DEGREE_INJURY_CD\"].replace(cls0, 0, inplace=True)\n",
    "task1_df[\"DEGREE_INJURY_CD\"].replace(cls1, 1, inplace=True)\n",
    "\n",
    "# Train, test and valid sets\n",
    "train1, test1  = train_test_split(task1_df, train_size=0.8)\n",
    "train1, valid1 = train_test_split(train1, train_size=0.8)\n",
    "\n",
    "# Write dataframes to CSV\n",
    "train1.to_csv(\"./data/task1/train.csv\")\n",
    "test1.to_csv(\"./data/task1/test.csv\")\n",
    "valid1.to_csv(\"./data/task1/valid.csv\")\n",
    "\n",
    "task1_df.head()"
   ]
  },
  {
   "cell_type": "markdown",
   "id": "37ec2494",
   "metadata": {},
   "source": [
    "#### Task 2 Preprocessing"
   ]
  },
  {
   "cell_type": "markdown",
   "id": "6a241e83",
   "metadata": {},
   "source": [
    "Task 2 requires multiclass classification. Below are all the relevant columns, but for the classification I will be using `ACTIVITY` as the class labels (In particular, the code `_CD` values):\n",
    "\n",
    "* `NATURE_INJURY`\n",
    "* `INJ_BODY_PART`\n",
    "* `ACTIVITY`\n",
    "* `INJURY_SOURCE`\n",
    "* `NARRATIVE`"
   ]
  },
  {
   "cell_type": "markdown",
   "id": "0ae7721d",
   "metadata": {},
   "source": [
    "Since there are classes with very few occurences, sometimes the vectorizer will not be able to add every class to the vocabulary, so we can avoid this by removing observations with very infrequent classes, and then using `stratify` in the `train_test_split` call, which will retain the class proportions when returning the splits. "
   ]
  },
  {
   "cell_type": "code",
   "execution_count": 5,
   "id": "7aab2346",
   "metadata": {},
   "outputs": [
    {
     "data": {
      "text/html": [
       "<div>\n",
       "<style scoped>\n",
       "    .dataframe tbody tr th:only-of-type {\n",
       "        vertical-align: middle;\n",
       "    }\n",
       "\n",
       "    .dataframe tbody tr th {\n",
       "        vertical-align: top;\n",
       "    }\n",
       "\n",
       "    .dataframe thead th {\n",
       "        text-align: right;\n",
       "    }\n",
       "</style>\n",
       "<table border=\"1\" class=\"dataframe\">\n",
       "  <thead>\n",
       "    <tr style=\"text-align: right;\">\n",
       "      <th></th>\n",
       "      <th>NARRATIVE</th>\n",
       "      <th>ACTIVITY_CD</th>\n",
       "    </tr>\n",
       "  </thead>\n",
       "  <tbody>\n",
       "    <tr>\n",
       "      <th>471</th>\n",
       "      <td>EE OPENED DOOR TO GET OUT OF TRUCK WHICH WAS O...</td>\n",
       "      <td>23</td>\n",
       "    </tr>\n",
       "    <tr>\n",
       "      <th>152</th>\n",
       "      <td>EE assisting in mill liner job. Liner on dolly...</td>\n",
       "      <td>28</td>\n",
       "    </tr>\n",
       "    <tr>\n",
       "      <th>1674</th>\n",
       "      <td>Emp. lifted tool box out of truck and felt pai...</td>\n",
       "      <td>28</td>\n",
       "    </tr>\n",
       "    <tr>\n",
       "      <th>412</th>\n",
       "      <td>Employee slipped off the last rung of a ladder...</td>\n",
       "      <td>41</td>\n",
       "    </tr>\n",
       "    <tr>\n",
       "      <th>1447</th>\n",
       "      <td>EE STATED HE PUSHED DOWN WITH A BAR ON A KILN ...</td>\n",
       "      <td>30</td>\n",
       "    </tr>\n",
       "    <tr>\n",
       "      <th>...</th>\n",
       "      <td>...</td>\n",
       "      <td>...</td>\n",
       "    </tr>\n",
       "    <tr>\n",
       "      <th>568</th>\n",
       "      <td>Employee was dismounting from skid steer.  He ...</td>\n",
       "      <td>23</td>\n",
       "    </tr>\n",
       "    <tr>\n",
       "      <th>1459</th>\n",
       "      <td>EE WAS COMING TO WORK &amp; STEPPED OFF SIDEWALK H...</td>\n",
       "      <td>92</td>\n",
       "    </tr>\n",
       "    <tr>\n",
       "      <th>363</th>\n",
       "      <td>During the raising process the workdeck winche...</td>\n",
       "      <td>23</td>\n",
       "    </tr>\n",
       "    <tr>\n",
       "      <th>1828</th>\n",
       "      <td>EMPLOYEE STEPPED OUT OF BUCKET TRUCK AND TWIST...</td>\n",
       "      <td>23</td>\n",
       "    </tr>\n",
       "    <tr>\n",
       "      <th>1343</th>\n",
       "      <td>The injured EE was removing decorative rocks i...</td>\n",
       "      <td>26</td>\n",
       "    </tr>\n",
       "  </tbody>\n",
       "</table>\n",
       "<p>231 rows × 2 columns</p>\n",
       "</div>"
      ],
      "text/plain": [
       "                                              NARRATIVE ACTIVITY_CD\n",
       "471   EE OPENED DOOR TO GET OUT OF TRUCK WHICH WAS O...          23\n",
       "152   EE assisting in mill liner job. Liner on dolly...          28\n",
       "1674  Emp. lifted tool box out of truck and felt pai...          28\n",
       "412   Employee slipped off the last rung of a ladder...          41\n",
       "1447  EE STATED HE PUSHED DOWN WITH A BAR ON A KILN ...          30\n",
       "...                                                 ...         ...\n",
       "568   Employee was dismounting from skid steer.  He ...          23\n",
       "1459  EE WAS COMING TO WORK & STEPPED OFF SIDEWALK H...          92\n",
       "363   During the raising process the workdeck winche...          23\n",
       "1828  EMPLOYEE STEPPED OUT OF BUCKET TRUCK AND TWIST...          23\n",
       "1343  The injured EE was removing decorative rocks i...          26\n",
       "\n",
       "[231 rows x 2 columns]"
      ]
     },
     "execution_count": 5,
     "metadata": {},
     "output_type": "execute_result"
    }
   ],
   "source": [
    "task2cols = [\"ACTIVITY\", \"ACTIVITY_CD\", \"NARRATIVE\"]\n",
    "task2_df = df[task2cols]\n",
    "\n",
    "# Drop underrepresented classes, threshold = 20\n",
    "task2_df = task2_df.groupby(\"ACTIVITY_CD\").filter(lambda x: len(x)>20)\n",
    "\n",
    "x_a, x_b, y_a, y_b = train_test_split(task2_df[\"NARRATIVE\"], task2_df[\"ACTIVITY_CD\"], train_size=0.8, stratify=task2_df[\"ACTIVITY_CD\"])\n",
    "test2 = pd.concat([x_b, y_b], axis=1)\n",
    "x_a, x_b, y_a, y_b = train_test_split(x_a, y_a, train_size=0.8, stratify=y_a)\n",
    "train2 = pd.concat([x_a, y_a], axis=1)\n",
    "valid2 = pd.concat([x_b, y_b], axis=1)\n",
    "\n",
    "# Write dataframes to CSV\n",
    "train2.to_csv(\"./data/task2/train.csv\")\n",
    "test2.to_csv(\"./data/task2/test.csv\")\n",
    "valid2.to_csv(\"./data/task2/valid.csv\")\n",
    "\n",
    "valid2"
   ]
  },
  {
   "cell_type": "markdown",
   "id": "bd01a79f",
   "metadata": {},
   "source": [
    "#### Visualising the class balance"
   ]
  },
  {
   "cell_type": "code",
   "execution_count": 6,
   "id": "ea493cd6",
   "metadata": {},
   "outputs": [],
   "source": [
    "inj_counts = df[\"DEGREE_INJURY\"].value_counts()"
   ]
  },
  {
   "cell_type": "code",
   "execution_count": 7,
   "id": "f2fddbbf",
   "metadata": {},
   "outputs": [
    {
     "data": {
      "image/png": "[encoded data removed]",
      "text/plain": [
       "<Figure size 432x288 with 1 Axes>"
      ]
     },
     "metadata": {
      "needs_background": "light"
     },
     "output_type": "display_data"
    }
   ],
   "source": [
    "fig, ax = plt.subplots()\n",
    "\n",
    "ax = inj_counts.plot(kind=\"barh\")\n",
    "ax.set_title(\"Injury Degree Hist\")\n",
    "ax.set_ylabel(\"Injury Degree\")\n",
    "ax.xaxis.grid(True)\n",
    "\n",
    "plt.show()"
   ]
  },
  {
   "cell_type": "markdown",
   "id": "40955a19",
   "metadata": {},
   "source": [
    "#### Visualise the entity distribution"
   ]
  },
  {
   "cell_type": "code",
   "execution_count": 8,
   "id": "f93dced0",
   "metadata": {},
   "outputs": [],
   "source": [
    "import spacy\n",
    "import en_core_web_sm\n",
    "nlp = en_core_web_sm.load()"
   ]
  },
  {
   "cell_type": "markdown",
   "id": "4cffc454",
   "metadata": {},
   "source": [
    "This cell may take a very long time if run on a large dataset, so we will only use up to the first 2000 observations as a sample of the data."
   ]
  },
  {
   "cell_type": "code",
   "execution_count": 9,
   "id": "fdc5daa1",
   "metadata": {},
   "outputs": [],
   "source": [
    "ner_data = df.iloc[:2000]\n",
    "ne_narr  = list(nlp.pipe(ner_data[\"NARRATIVE\"]))"
   ]
  },
  {
   "cell_type": "code",
   "execution_count": 10,
   "id": "ec700d36",
   "metadata": {},
   "outputs": [],
   "source": [
    "ne = []\n",
    "for doc in ne_narr:\n",
    "    ne.append([(x.text, x.label_) for x in doc.ents])\n",
    "ne_counts = pd.DataFrame([a for b in ne for a in b])[1].value_counts()"
   ]
  },
  {
   "cell_type": "code",
   "execution_count": 11,
   "id": "064c9333",
   "metadata": {},
   "outputs": [
    {
     "data": {
      "image/png": "[encoded data removed]",
      "text/plain": [
       "<Figure size 432x288 with 1 Axes>"
      ]
     },
     "metadata": {
      "needs_background": "light"
     },
     "output_type": "display_data"
    }
   ],
   "source": [
    "fig, ax = plt.subplots()\n",
    "\n",
    "ax = ne_counts.plot(kind=\"barh\")\n",
    "ax.set_title(\"Named Entity Distribution\")\n",
    "ax.set_ylabel(\"Named Entity\")\n",
    "ax.xaxis.grid(True)\n",
    "\n",
    "plt.show()"
   ]
  },
  {
   "cell_type": "markdown",
   "id": "38a37e2c",
   "metadata": {},
   "source": [
    "## Data Preprocessing and Preparation"
   ]
  },
  {
   "cell_type": "markdown",
   "id": "571dd2a0",
   "metadata": {},
   "source": [
    "Create a dataset for each task, and two Vectorizers (one for one-hot, and another pre-trained embedding). Follow the pre-processing steps:\n",
    "\n",
    "* Tokenize\n",
    "* Lemmatize, compare with stemming\n",
    "* Remove stop words (rank according to tf-idf)"
   ]
  },
  {
   "cell_type": "markdown",
   "id": "8c7f6476",
   "metadata": {},
   "source": [
    "Tokenization will be done automatically in the `Vocabulary` class, in the `add_token`/`add_tokens` methods.\n",
    "\n",
    "I will define a function below for finding stopwords, by using the `sklearn` class `TfidfVectorizer` on the narratives.\n",
    "\n",
    "Both the removal of stopwords and lemmatization will occur in the `NarrativeDataset` class, in method `load_dataset_make_vectorizer`."
   ]
  },
  {
   "cell_type": "markdown",
   "id": "fd247050",
   "metadata": {},
   "source": [
    "#### Pretrained Embeddings"
   ]
  },
  {
   "cell_type": "markdown",
   "id": "e9dcdac0",
   "metadata": {},
   "source": [
    "Pretrained embeddings will only be used in conjunction with the vectorizer class `PEVectorizer`, as they will not be usable with a vectorizer that encodes into one-hot vectors. These embeddings will be imported using glove, from the file `glove.6B.100d.txt`, a 100-dimensional, 6-billion token file of word vectors. These are learned from a dump of Wikipedia in 2014, and the Gigaword 5 archive.\n",
    "\n",
    "For the most part, the embeddings are handled within the classifier classes themselves, but for Task 1 it was a bit different. For this task, the MLP doesn't use any embedding, it just takes the one-hot vectorized words, but the CNN does take embeddings. It can take pretrained or do the embeddings itself depending on the argument in the `args` namespace: `use_glove`. If `True`, then it uses the above GloVe embeddings, if `False` it will use it's own embeddings."
   ]
  },
  {
   "cell_type": "markdown",
   "id": "58d1effb",
   "metadata": {},
   "source": [
    "#### Stopword Removal"
   ]
  },
  {
   "cell_type": "code",
   "execution_count": 12,
   "id": "e7b22a92",
   "metadata": {},
   "outputs": [],
   "source": [
    "from sklearn.feature_extraction.text import TfidfVectorizer\n",
    "\n",
    "tfidf_vectorizer = TfidfVectorizer()\n",
    "tfidf = tfidf_vectorizer.fit_transform(df[\"NARRATIVE\"])"
   ]
  },
  {
   "cell_type": "code",
   "execution_count": 13,
   "id": "da025752",
   "metadata": {},
   "outputs": [
    {
     "name": "stdout",
     "output_type": "stream",
     "text": [
      "['the', 'was', 'and', 'his', 'on', 'to', 'he', 'employee', 'of', 'in', 'ee', 'when', 'left', 'back', 'right', 'while', 'hand', 'fell', 'from', 'slipped', 'finger', 'with', 'rock', 'off', 'it', 'causing', 'piece', 'up', 'pain', 'out', 'felt', 'truck', 'knee', 'that', 'him', 'into', 'at', 'down', 'belt', 'work', 'hit', 'cut', 'struck', 'for', 'between', 'lower', 'as', 'not', 'foot', 'had']\n"
     ]
    }
   ],
   "source": [
    "features  = np.array(tfidf_vectorizer.get_feature_names())\n",
    "sums = tfidf.sum(axis=0)\n",
    "\n",
    "data = []\n",
    "for col, feature in enumerate(features):\n",
    "    data.append((feature, sums[0, col]))\n",
    "    \n",
    "ranking = pd.DataFrame(data, columns=[\"features\", \"rank\"])\n",
    "\n",
    "stopwords = list(ranking.sort_values('rank', ascending=False)[:50][\"features\"])\n",
    "print(stopwords)"
   ]
  },
  {
   "cell_type": "markdown",
   "id": "196808ce",
   "metadata": {},
   "source": [
    "## Task 1: Binary Document Classification"
   ]
  },
  {
   "cell_type": "markdown",
   "id": "614253ed",
   "metadata": {},
   "source": [
    "#### Define `Task1Dataset` class"
   ]
  },
  {
   "cell_type": "markdown",
   "id": "6cd6cfa9",
   "metadata": {},
   "source": [
    "This class was mostly taken from the lab notes, with a few changes made to suit the dataset"
   ]
  },
  {
   "cell_type": "code",
   "execution_count": 14,
   "id": "871ba636",
   "metadata": {},
   "outputs": [],
   "source": [
    "from torch.utils.data import Dataset\n",
    "\n",
    "import nltk\n",
    "from nltk.stem import WordNetLemmatizer\n",
    "lemmatizer = WordNetLemmatizer()\n",
    "\n",
    "class Task1Dataset(Dataset):\n",
    "    def __init__(self, train_df, test_df, valid_df, vectorizer):\n",
    "        \"\"\"\n",
    "        Args:\n",
    "            train_df (pandas.DataFrame): Training dataset\n",
    "            test_df (pandas.DataFrame): Test dataset\n",
    "            valid_df (pandas.DataFrame): Validation dataset\n",
    "            vectorizer (object): Vectorizer created from dataset\n",
    "        \"\"\"\n",
    "        self._vectorizer = vectorizer\n",
    "        \n",
    "        self.train_df = train_df\n",
    "        self.train_size = len(self.train_df)\n",
    "        \n",
    "        self.test_df = test_df\n",
    "        self.test_size = len(self.test_df)\n",
    "        \n",
    "        self.valid_df = valid_df\n",
    "        self.valid_size = len(self.valid_df)\n",
    "        \n",
    "        self.df = train_df.append(test_df).append(valid_df)\n",
    "        \n",
    "        # +2 for end and begin tokens\n",
    "        measure_len = lambda sent: len(sent.split(\" \"))\n",
    "        self._max_seq_length = max(map(measure_len, self.df[\"NARRATIVE\"])) + 2\n",
    "        \n",
    "        self._lookup_dict = {\"train\": (self.train_df, self.train_size),\n",
    "                             \"test\": (self.test_df, self.test_size),\n",
    "                             \"valid\": (self.valid_df, self.valid_size)}\n",
    "        self.set_split(\"train\")\n",
    "        \n",
    "    @classmethod\n",
    "    def load_dataset_make_vectorizer(cls, folder_path, vectorizer):\n",
    "        \"\"\"Load dataset and make a new vectorizer from it\n",
    "        Args:\n",
    "            csv (str): Path to folder containing data CSVs\n",
    "            vectorizer (object): One of the two Vectorizer classes,\n",
    "                OHVectorizer for one hot, or \n",
    "                PEVectorizer for use with pretrained embeddings\n",
    "        Returns:\n",
    "            Instance of Task1Dataset\n",
    "        \"\"\"\n",
    "        train_df = pd.read_csv(folder_path + \"train.csv\")\n",
    "        test_df = pd.read_csv(folder_path + \"test.csv\")\n",
    "        valid_df = pd.read_csv(folder_path + \"valid.csv\")\n",
    "        \n",
    "        # Remove stopwords\n",
    "        for x in [train_df, test_df, valid_df]:\n",
    "            x[\"NARRATIVE\"] = x[\"NARRATIVE\"].str.lower().apply(lambda x:\" \".join([w for w in x.split(\" \") if w not in stopwords]))\n",
    "        \n",
    "        # Lemmatize\n",
    "        for x in [train_df, test_df, valid_df]:\n",
    "            x[\"NARRATIVE\"] = x[\"NARRATIVE\"].apply(lambda x:\" \".join([lemmatizer.lemmatize(w) for w in x.split(\" \")]))\n",
    "        \n",
    "        return cls(train_df, test_df, valid_df, vectorizer.from_dataframe(train_df))\n",
    "    \n",
    "    def get_vectorizer(self):\n",
    "        \"\"\"Returns vectorizer\"\"\"\n",
    "        return self._vectorizer\n",
    "    \n",
    "    def set_split(self, split=\"train\"):\n",
    "        \"\"\"Selects the chosen dataset\n",
    "        Args: \n",
    "            split (str): Select \"train\", \"test\", \"valid\"\n",
    "        \"\"\"\n",
    "        self._target_split = split\n",
    "        self._target_df, self._target_size = self._lookup_dict[split]\n",
    "\n",
    "    def __len__(self):\n",
    "        return self._target_size\n",
    "\n",
    "    def __getitem__(self, index):\n",
    "        \"\"\"Allow indexing of dataset\n",
    "        Args:\n",
    "            index (int): Index of desired datapoint\n",
    "        Returns:\n",
    "            Dictionary with datapoint's features and labels\n",
    "        \"\"\"\n",
    "        row = self._target_df.iloc[index]\n",
    "\n",
    "        narr_vector = self._vectorizer.vectorize(row[\"NARRATIVE\"], self._max_seq_length)\n",
    "        injurycd_idx = self._vectorizer.injury_codes.lookup_token(row[\"DEGREE_INJURY_CD\"])\n",
    "        return {\"features\":narr_vector,\n",
    "                \"labels\":injurycd_idx}\n",
    "\n",
    "    def get_num_batches(self, batch_size):\n",
    "        \"\"\"Return number of batches in dataset from a given batch size\n",
    "        Args:\n",
    "            batch_size (int)\n",
    "        Returns:\n",
    "            Number of batches in the dataset\n",
    "        \"\"\"\n",
    "        return len(self) // batch_size"
   ]
  },
  {
   "cell_type": "markdown",
   "id": "68e85f32",
   "metadata": {},
   "source": [
    "#### Create a dataloader"
   ]
  },
  {
   "cell_type": "markdown",
   "id": "88a96cf0",
   "metadata": {},
   "source": [
    "Groups the vectorized datapoints"
   ]
  },
  {
   "cell_type": "code",
   "execution_count": 15,
   "id": "f4f4b9f5",
   "metadata": {},
   "outputs": [],
   "source": [
    "from torch.utils.data import DataLoader\n",
    "def gen_batches(dataset, batch_size, shuffle=True, drop_last=True, device=\"cpu\"):\n",
    "    \"\"\"Generator function, wraps PyTorch DataLoader and ensures \n",
    "    each tensor is in the right device\n",
    "    \"\"\"\n",
    "    dataloader = DataLoader(dataset=dataset, batch_size=batch_size, shuffle=shuffle, drop_last=drop_last)\n",
    "    \n",
    "    for data_dict in dataloader:\n",
    "        out_data_dict = {}\n",
    "        for name, tensor in data_dict.items():\n",
    "            out_data_dict[name] = data_dict[name].to(device)\n",
    "        yield out_data_dict"
   ]
  },
  {
   "cell_type": "markdown",
   "id": "d157d75e",
   "metadata": {},
   "source": [
    "#### Vocabulary"
   ]
  },
  {
   "cell_type": "markdown",
   "id": "4e76b117",
   "metadata": {},
   "source": [
    "Base vocabulary class"
   ]
  },
  {
   "cell_type": "code",
   "execution_count": 16,
   "id": "e0faf15b",
   "metadata": {},
   "outputs": [],
   "source": [
    "class Vocabulary(object):\n",
    "    \"\"\"Processes text and extracts vocab\"\"\"\n",
    "    def __init__(self, tok_to_idx=None):\n",
    "        \"\"\"Args:\n",
    "            tok_to_idx (dict): Dictionary that maps tokens to indices\n",
    "        \"\"\"\n",
    "        if tok_to_idx is None:\n",
    "            tok_to_idx = {}\n",
    "        self._tok_to_idx = tok_to_idx\n",
    "        self._idx_to_tok = {idx:token for token, idx in self._tok_to_idx.items()}\n",
    "\n",
    "    def to_serializable(self):\n",
    "        return {\"tok_to_idx\":self._tok_to_idx}\n",
    "\n",
    "    @classmethod\n",
    "    def from_serializable(cls, dictionary):\n",
    "        \"\"\"Creates a Vocabulary from a serialized dict\"\"\"\n",
    "        return cls(**dictionary)\n",
    "\n",
    "    def add_token(self, token):\n",
    "        \"\"\"Update Vocabulary with a new token\n",
    "\n",
    "        Args:\n",
    "            token (str): The token to add to the Vocabulary\n",
    "        Returns:\n",
    "            index (int): Integer index corresponding to the token \n",
    "        \"\"\"\n",
    "\n",
    "        if token in self._tok_to_idx:\n",
    "            index = self._tok_to_idx[token]\n",
    "        else:\n",
    "            index = len(self._tok_to_idx)\n",
    "            self._tok_to_idx[token] = index\n",
    "            self._idx_to_tok[index] = token\n",
    "        return index\n",
    "\n",
    "    def add_tokens(self, tokens):\n",
    "        \"\"\"Updates Vocabulary with multiple tokens\n",
    "\n",
    "        Args: \n",
    "            tokens (list): List of tokens (str)s\n",
    "        Returns:\n",
    "            indices (list): List of indices (int)s\n",
    "        \"\"\"\n",
    "\n",
    "        return [self.add_token(token) for token in tokens]\n",
    "\n",
    "    def lookup_token(self, token):\n",
    "        \"\"\"Returns index of a token\n",
    "\n",
    "        Args:\n",
    "            token (str): Token to to find index for\n",
    "        Returns:\n",
    "            index (int): The index of the token\n",
    "        \"\"\"\n",
    "        return self._tok_to_idx[token]\n",
    "\n",
    "    def lookup_index(self, index):\n",
    "        \"\"\"Returns token at index\n",
    "\n",
    "        Args:\n",
    "            index (int): Index to search for\n",
    "        Returns:\n",
    "            token (str): Associated token\n",
    "        \"\"\"\n",
    "\n",
    "        if index not in self._idx_to_tok:\n",
    "            raise KeyError(f\"Index ({index}) is not in the Vocabulary\")\n",
    "        return self._idx_to_tok[index]\n",
    "\n",
    "    def __str__(self):\n",
    "        return f\"<Vocabulary(size={len(self)})>\"\n",
    "\n",
    "    def __len__(self):\n",
    "        return len(self._tok_to_idx)"
   ]
  },
  {
   "cell_type": "markdown",
   "id": "5876710f",
   "metadata": {},
   "source": [
    "#### Sequence Vocabulary"
   ]
  },
  {
   "cell_type": "markdown",
   "id": "c53319fc",
   "metadata": {},
   "source": [
    "Class for the narrative sentences as sequences of words, beginning and ending with special tokens. The class inherits from the `Vocabulary` class above. "
   ]
  },
  {
   "cell_type": "code",
   "execution_count": 17,
   "id": "9c7cf08f",
   "metadata": {},
   "outputs": [],
   "source": [
    "# The below Vocabulary object is from lab 9\n",
    "\n",
    "class SequenceVocabulary(Vocabulary):\n",
    "    \"\"\"Processes text and extracts vocab, for sequences\"\"\"\n",
    "    def __init__(self, add_unk=True, tok_to_idx=None, unk_token=\"<UNK>\", mask_token=\"<MASK>\", begin_seq_token=\"<BEGIN>\", end_seq_token=\"<END>\"):\n",
    "        \"\"\"Args:\n",
    "            tok_to_idx (dict): Dictionary that maps tokens to indices\n",
    "            unk_token (str): The UNK token that will be added to the Vocabulary\n",
    "            mask_token (str): Used as padding for embedding\n",
    "            begin_seq_token (str): Start of a sequence\n",
    "            end_seq_token (str): End of a sequence\n",
    "        \"\"\"\n",
    "        super(SequenceVocabulary, self).__init__(tok_to_idx)\n",
    "        \n",
    "        self._add_unk = add_unk\n",
    "        self._unk_token = unk_token\n",
    "        self._mask_token = mask_token\n",
    "        self._begin_seq_token = begin_seq_token\n",
    "        self._end_seq_token = end_seq_token\n",
    "        \n",
    "        self.unk_index = self.add_token(self._unk_token)\n",
    "        self.mask_index = self.add_token(self._mask_token)\n",
    "        self.begin_seq_index = self.add_token(self._begin_seq_token)\n",
    "        self.end_seq_index = self.add_token(self._end_seq_token)\n",
    "        \n",
    "    def to_serializable(self):\n",
    "        return {\"tok_to_idx\":self._tok_to_idx,\n",
    "                \"unk_token\":self._unk_token,\n",
    "                \"mask_token\":self._mask_token,\n",
    "                \"begin_seq_token\":self._begin_seq_token,\n",
    "                \"end_seq_token\":self._end_seq_token}\n",
    "\n",
    "    def lookup_token(self, token):\n",
    "        \"\"\"Returns index of a token, or <UNK> index if not present\n",
    "\n",
    "        Args:\n",
    "            token (str): Token to to find index for\n",
    "        Returns:\n",
    "            index (int): The index of the token\n",
    "        \"\"\"\n",
    "        if self.unk_index >= 0:\n",
    "            return self._tok_to_idx.get(token, self.unk_index)\n",
    "        else:\n",
    "            return self._tok_to_idx[token]"
   ]
  },
  {
   "cell_type": "markdown",
   "id": "1ca2a184",
   "metadata": {},
   "source": [
    "### Vectorizers"
   ]
  },
  {
   "cell_type": "markdown",
   "id": "c358fd4a",
   "metadata": {},
   "source": [
    "Vectorizer for use with one-hot encodings."
   ]
  },
  {
   "cell_type": "code",
   "execution_count": 18,
   "id": "06447eee",
   "metadata": {},
   "outputs": [],
   "source": [
    "from collections import Counter\n",
    "import string\n",
    "\n",
    "class OHVectorizer(object):\n",
    "    \"\"\"One-Hot Vectorizer\"\"\"\n",
    "    def __init__(self, narrative_vocab, injury_codes):\n",
    "        \"\"\"Args:\n",
    "            narrative_vocab (Vocabulary): Vocab for the narrative feature\n",
    "            injury_codes (Vocabulary): Injuries are already encoded as integers\n",
    "        \"\"\"\n",
    "        self.narrative_vocab = narrative_vocab\n",
    "        self.injury_codes = injury_codes\n",
    "    \n",
    "    def vectorize(self, narrative, vec_length=None):\n",
    "        \"\"\"Create one-hot encoding for the narrative\n",
    "        \n",
    "        Args:\n",
    "            narrative (str): The narrative\n",
    "        \n",
    "        Returns:\n",
    "            one_hot (np.ndarray): The one-hot encoding\n",
    "        \"\"\"\n",
    "        \n",
    "        one_hot = np.zeros(len(self.narrative_vocab), dtype=np.float32)\n",
    "        for token in narrative.split(\" \"):\n",
    "            if token not in string.punctuation:\n",
    "                one_hot[self.narrative_vocab.lookup_token(token)] = 1\n",
    "        return one_hot\n",
    "    \n",
    "    @classmethod\n",
    "    def from_dataframe(cls, df, cutoff=0):\n",
    "        \"\"\"Create a one-hot vectorizer from a dataframe\n",
    "        \n",
    "        Args:\n",
    "            narrative_df (pandas.DataFrame): Narrative dataframe\n",
    "            injury_code_arr (arraylike): Array of injury codes \n",
    "            \n",
    "        Returns:\n",
    "            OHVectorizer object\n",
    "        \"\"\"\n",
    "        \n",
    "        word_counter = Counter()\n",
    "        narrative_vocab = SequenceVocabulary(add_unk=True)\n",
    "        for narrative in sorted(set(df[\"NARRATIVE\"])):\n",
    "            for token in narrative.split(\" \"):\n",
    "                if token not in string.punctuation:\n",
    "                    word_counter[token] += 1\n",
    "                    \n",
    "        for word, count in word_counter.items():\n",
    "            if count > cutoff:\n",
    "                narrative_vocab.add_token(word)\n",
    "        \n",
    "        injury_codes = Vocabulary()\n",
    "        for code in sorted(set(df[\"DEGREE_INJURY_CD\"])):\n",
    "            injury_codes.add_token(code)\n",
    "        \n",
    "        return cls(narrative_vocab, injury_codes)"
   ]
  },
  {
   "cell_type": "markdown",
   "id": "45aff744",
   "metadata": {},
   "source": [
    "Vectorizer for embeddings, which are to be done in the classifier cells"
   ]
  },
  {
   "cell_type": "code",
   "execution_count": 19,
   "id": "0613aa98",
   "metadata": {},
   "outputs": [],
   "source": [
    "class PEVectorizer(object):\n",
    "    \"\"\"Vectorizer for use with the pretrained embeddings\"\"\"\n",
    "    def __init__(self, narrative_vocab, injury_codes):\n",
    "        \"\"\"\n",
    "        Args:\n",
    "            narrative_vocab (Vocabulary): Vocab for the narrative feature\n",
    "            injury_codes (Vocabulary): Injuries are already encoded as integers\n",
    "        \"\"\"\n",
    "        self.narrative_vocab = narrative_vocab\n",
    "        self.injury_codes = injury_codes\n",
    "    \n",
    "    def vectorize(self, narrative, vec_length=-1):\n",
    "        \"\"\"\n",
    "        Args:\n",
    "            narrative (str): The space-separated narrative\n",
    "            vec_length (int): Fix length of vector\n",
    "        Returns:\n",
    "            out (np.ndarray): Vectorized narrative\n",
    "        \"\"\"\n",
    "        idx = [self.narrative_vocab.begin_seq_index]\n",
    "        idx.extend(self.narrative_vocab.lookup_token(token) for token in narrative.split(\" \"))\n",
    "        idx.append(self.narrative_vocab.end_seq_index)\n",
    "        \n",
    "        if vec_length < 0:\n",
    "            vec_length = len(idx)\n",
    "            \n",
    "        out = np.zeros(vec_length, dtype=np.int64)\n",
    "        out[:len(idx)] = idx\n",
    "        out[len(idx):] = self.narrative_vocab.mask_index\n",
    "        \n",
    "        return out\n",
    "    \n",
    "    @classmethod\n",
    "    def from_dataframe(cls, df, cutoff=0):\n",
    "        \"\"\"Create a vectorizer from a dataframe\n",
    "        \n",
    "        Args:\n",
    "            narrative_df (pandas.DataFrame): Narrative dataframe\n",
    "            injury_code_arr (arraylike): Array of injury codes \n",
    "        Returns:\n",
    "            PEVectorizer object\n",
    "        \"\"\"\n",
    "        word_counter = Counter()\n",
    "        narrative_vocab = SequenceVocabulary(add_unk=True)\n",
    "        for narrative in sorted(set(df[\"NARRATIVE\"])):\n",
    "            for token in narrative.split(\" \"):\n",
    "                if token not in string.punctuation:\n",
    "                    word_counter[token] += 1\n",
    "                    \n",
    "        for word, count in word_counter.items():\n",
    "            if count > cutoff:\n",
    "                narrative_vocab.add_token(word)\n",
    "        \n",
    "        injury_codes = Vocabulary()\n",
    "        for code in sorted(set(df[\"DEGREE_INJURY_CD\"])):\n",
    "            injury_codes.add_token(code)\n",
    "        \n",
    "        return cls(narrative_vocab, injury_codes)"
   ]
  },
  {
   "cell_type": "markdown",
   "id": "83c8b133",
   "metadata": {},
   "source": [
    "### Feed-Forward NN model"
   ]
  },
  {
   "cell_type": "markdown",
   "id": "2e9d8734",
   "metadata": {},
   "source": [
    "A basic example of a feed-forward neural network is a simple multi-layer perceptron, with one hidden layer"
   ]
  },
  {
   "cell_type": "code",
   "execution_count": 20,
   "id": "4dc7be25",
   "metadata": {},
   "outputs": [],
   "source": [
    "class NarrativeFFClassifier(nn.Module):\n",
    "    \"\"\"Multilayer Perceptron classifier\"\"\"\n",
    "    def __init__(self, num_features, hidden_size):\n",
    "        \"\"\"\n",
    "        Args:\n",
    "            num_features (int): Size of input\n",
    "            hidden_size (int): Size of hidden layer\n",
    "        \"\"\"\n",
    "        super(NarrativeFFClassifier, self).__init__()\n",
    "        \n",
    "        self.num_features = num_features\n",
    "        self.hidden_size = hidden_size\n",
    "        \n",
    "        self.dense1  = nn.Linear(self.num_features, self.hidden_size)\n",
    "        self.relu    = nn.ReLU()\n",
    "        self.dense2  = nn.Linear(self.hidden_size, 1)\n",
    "        self.sigmoid = nn.Sigmoid()\n",
    "        \n",
    "    def forward(self, inputs, apply_sigmoid=False):\n",
    "        \"\"\"Forward pass\n",
    "        Args:\n",
    "            inputs (torch.Tensor): Input data tensor, inputs.shape = (batch_size, num_features)\n",
    "            apply_sigmoid (bool): True to use sigmoid activation function\n",
    "        Returns:\n",
    "            Output tensor, tensor.shape = (batch,)\n",
    "        \"\"\"\n",
    "        x = self.dense1(inputs)\n",
    "        x = self.relu(x)\n",
    "        x = self.dense2(x).squeeze()\n",
    "        if apply_sigmoid:\n",
    "            x = torch.sigmoid(x)\n",
    "        \n",
    "        return x"
   ]
  },
  {
   "cell_type": "markdown",
   "id": "7617347f",
   "metadata": {},
   "source": [
    "Define arguments to be used in the first model using `Namespace`"
   ]
  },
  {
   "cell_type": "code",
   "execution_count": 21,
   "id": "21496e44",
   "metadata": {},
   "outputs": [],
   "source": [
    "from argparse import Namespace\n",
    "args = Namespace(\n",
    "    frequency_cutoff=0,\n",
    "    narrative_folder_path=\"./data/task1/\",\n",
    "    model_state_file=\"./data/task1/MLPmodel.pth\",\n",
    "    vectorizer_file=\"./data/task1/MLPvectorizer.json\",\n",
    "    save_dir=\"./data/task1/\",\n",
    "    glove_file=\"./data/glove.6B/glove.6B.100d.txt\",\n",
    "    batch_size=128,\n",
    "    early_stopping_criteria=5,\n",
    "    learning_rate=0.001,\n",
    "    num_epochs=100,\n",
    "    seed=9,\n",
    "    # Runtime options\n",
    "    cuda=True,\n",
    "    device='cuda',\n",
    "    use_glove=False,\n",
    "    embedding_size=100\n",
    ")"
   ]
  },
  {
   "cell_type": "markdown",
   "id": "e07a106d",
   "metadata": {},
   "source": [
    "Define auxiliary functions"
   ]
  },
  {
   "cell_type": "code",
   "execution_count": 22,
   "id": "41189edd",
   "metadata": {},
   "outputs": [],
   "source": [
    "import torch.optim as optim\n",
    "\n",
    "def make_train_state(args):\n",
    "    return {\"epoch_index\": 0,\n",
    "            \"train_loss\": [],\n",
    "            \"train_acc\": [],\n",
    "            \"valid_loss\": [],\n",
    "            \"valid_acc\": [],\n",
    "            \"test_loss\": 1,\n",
    "            \"test_acc\": 1,\n",
    "            \"learning_rate\":args.learning_rate,\n",
    "            \"stop_early\":False,\n",
    "            \"early_stopping_step\":0,\n",
    "            \"early_stopping_best_valid\": 1e8,\n",
    "            \"model_filename\": args.model_state_file}\n",
    "\n",
    "def update_train_state(args, model, train_state):\n",
    "    \"\"\"Implements early stopping\n",
    "    Args:\n",
    "        args (Namespace): Main model arguments\n",
    "        model (nn.Module): Model\n",
    "        train_state (dict): Current training state\n",
    "    \"\"\"\n",
    "    # Save first model\n",
    "    if train_state[\"epoch_index\"] == 0:\n",
    "        torch.save(model.state_dict(), train_state[\"model_filename\"])\n",
    "        train_state[\"stop_early\"] = False\n",
    "    \n",
    "    # Save model if performance increase\n",
    "    if train_state[\"epoch_index\"] >= 1:\n",
    "        _, loss = train_state[\"valid_loss\"][-2:]\n",
    "        \n",
    "        # If loss increased\n",
    "        if loss >= train_state[\"early_stopping_best_valid\"]:\n",
    "            train_state[\"early_stopping_step\"] += 1\n",
    "        # If loss decreased\n",
    "        else:\n",
    "            # Save best model\n",
    "            if loss < train_state[\"early_stopping_best_valid\"]:\n",
    "                torch.save(model.state_dict(), train_state[\"model_filename\"])\n",
    "            \n",
    "            train_state[\"early_stopping_step\"] = 0\n",
    "            \n",
    "        train_state[\"stop_early\"] = train_state[\"early_stopping_step\"] >= args.early_stopping_criteria\n",
    "        \n",
    "    return train_state\n",
    "\n",
    "def compute_accuracy(y_pred, y_targ):\n",
    "    y_targ = y_targ.cpu()\n",
    "    y_pred_idx = (torch.sigmoid(y_pred)>0.5).cpu().long()\n",
    "    n_correct = torch.eq(y_pred_idx, y_targ).sum().item()\n",
    "    \n",
    "    return n_correct / len(y_pred_idx) * 100"
   ]
  },
  {
   "cell_type": "markdown",
   "id": "9c6adbee",
   "metadata": {},
   "source": [
    "Define the important functions, such as the classifier, the loss function and the optimizer"
   ]
  },
  {
   "cell_type": "code",
   "execution_count": 23,
   "id": "243bdc05",
   "metadata": {},
   "outputs": [],
   "source": [
    "train_state = make_train_state(args)\n",
    "\n",
    "if not torch.cuda.is_available():\n",
    "    args.cuda = False\n",
    "args.device = torch.device(\"cuda\" if args.cuda else \"cpu\")\n",
    "\n",
    "dataset = Task1Dataset.load_dataset_make_vectorizer(args.narrative_folder_path, OHVectorizer)\n",
    "vectorizer = dataset.get_vectorizer()\n",
    "\n",
    "num_features = len(vectorizer.narrative_vocab)\n",
    "clf = NarrativeFFClassifier(num_features=num_features, hidden_size=num_features//2)\n",
    "clf = clf.to(args.device)\n",
    "\n",
    "loss_f = nn.BCEWithLogitsLoss()\n",
    "optimizer = optim.Adam(clf.parameters(), lr=args.learning_rate)\n",
    "scheduler = optim.lr_scheduler.ReduceLROnPlateau(optimizer=optimizer, mode='min', factor=0.5, patience=1)"
   ]
  },
  {
   "cell_type": "markdown",
   "id": "2e7306a4",
   "metadata": {},
   "source": [
    "#### Training"
   ]
  },
  {
   "cell_type": "markdown",
   "id": "d50ed55e",
   "metadata": {},
   "source": [
    "Below is the actual training algorithm, which may or may not take a long time depending on how many epochs, how large the dataset is, and how fast the computer is (or whether it has a CUDA enabled GPU or not). With the default settings (100 epochs), and on the `us_data_2000.csv` dataset, it takes around 2 minutes. On the `us_data` dataset, I'd estimate it would take a very very long time on my computer, (150MB vs 1.5MB, and epochs are over 100x as many batches), but maybe a couple hours on a computer with a CUDA enabled GPU/better CPU than that is in a laptop."
   ]
  },
  {
   "cell_type": "code",
   "execution_count": 24,
   "id": "4eb928c8",
   "metadata": {},
   "outputs": [
    {
     "data": {
      "application/vnd.jupyter.widget-view+json": {
       "model_id": "c054c0b1c0bb42479266e4d65d1f00eb",
       "version_major": 2,
       "version_minor": 0
      },
      "text/plain": [
       "Epoch:   0%|          | 0/100 [00:00<?, ?it/s]"
      ]
     },
     "metadata": {},
     "output_type": "display_data"
    },
    {
     "data": {
      "application/vnd.jupyter.widget-view+json": {
       "model_id": "ea0e3f31ce45461aa8042b74cc9aaeb5",
       "version_major": 2,
       "version_minor": 0
      },
      "text/plain": [
       "Train Split:   0%|          | 0/8 [00:00<?, ?it/s]"
      ]
     },
     "metadata": {},
     "output_type": "display_data"
    }
   ],
   "source": [
    "epoch_bar = tqdm(desc=\"Epoch\", \n",
    "                 total=args.num_epochs, \n",
    "                 position=0)\n",
    "\n",
    "dataset.set_split('train')\n",
    "train_bar = tqdm(desc='Train Split', \n",
    "                 total=dataset.get_num_batches(args.batch_size), \n",
    "                 position=1, \n",
    "                 leave=True)\n",
    "\n",
    "for epoch_index in range(args.num_epochs):\n",
    "    train_state[\"epoch_index\"] = epoch_index\n",
    "    \n",
    "    # Training dataset\n",
    "    dataset.set_split(\"train\")\n",
    "    batch_gen = gen_batches(dataset, batch_size=args.batch_size, device=args.device)\n",
    "    running_loss = 0.0\n",
    "    running_acc = 0.0\n",
    "    clf.train()\n",
    "    for batch_index, batch_dict in enumerate(batch_gen):\n",
    "        # Zero gradients\n",
    "        optimizer.zero_grad()\n",
    "        # Compute output\n",
    "        y_pred = clf(inputs=batch_dict[\"features\"].float())\n",
    "        # Compute loss\n",
    "        loss = loss_f(y_pred, batch_dict[\"labels\"].float())\n",
    "        loss_batch = loss.item()\n",
    "        running_loss += (loss_batch-running_loss) / (batch_index+1)\n",
    "        # Compute gradiends using loss\n",
    "        loss.backward()\n",
    "        # Use optimizer to take gradient step\n",
    "        optimizer.step()\n",
    "        # Compute accuracy\n",
    "        acc_batch = compute_accuracy(y_pred, batch_dict[\"labels\"])\n",
    "        running_acc += (acc_batch-running_acc) / (batch_index+1)\n",
    "        \n",
    "        # Update the bar\n",
    "        train_bar.set_postfix(loss=running_loss, acc=running_acc, epoch=epoch_index)\n",
    "        train_bar.update()\n",
    "            \n",
    "    train_state[\"train_loss\"].append(running_loss)\n",
    "    train_state[\"train_acc\"].append(running_acc)\n",
    "    \n",
    "    # Validation dataset\n",
    "    dataset.set_split(\"valid\")\n",
    "    batch_gen = gen_batches(dataset, batch_size=args.batch_size, device=args.device)\n",
    "    running_loss = 0.0\n",
    "    running_acc = 0.0\n",
    "    clf.eval()\n",
    "    \n",
    "    for batch_index, batch_dict in enumerate(batch_gen):\n",
    "        # Compute output\n",
    "        y_pred = clf(inputs=batch_dict[\"features\"].float())\n",
    "        # Compute loss\n",
    "        loss = loss_f(y_pred, batch_dict[\"labels\"].float())\n",
    "        loss_batch = loss.item()\n",
    "        running_loss += (loss_batch-running_loss) / (batch_index+1)\n",
    "        # Compute accuracy\n",
    "        acc_batch = compute_accuracy(y_pred, batch_dict[\"labels\"])\n",
    "        running_acc += (acc_batch-running_acc) / (batch_index+1)\n",
    "        \n",
    "    train_state[\"valid_loss\"].append(running_loss)\n",
    "    train_state[\"valid_acc\"].append(running_acc)\n",
    "    \n",
    "    train_state = update_train_state(args=args, model=clf, train_state=train_state)\n",
    "\n",
    "    scheduler.step(train_state['valid_loss'][-1])\n",
    "\n",
    "    if train_state['stop_early']:\n",
    "        print(\"stop\")\n",
    "        break\n",
    "    \n",
    "    train_bar.n=0\n",
    "    epoch_bar.update()"
   ]
  },
  {
   "cell_type": "markdown",
   "id": "a900c5dd",
   "metadata": {},
   "source": [
    "#### Evaluate model on test data"
   ]
  },
  {
   "cell_type": "markdown",
   "id": "2c5125fa",
   "metadata": {},
   "source": [
    "I can basically copy and paste the above validation split from the training stage above, and set the split to `test` to get the test accuracy and loss."
   ]
  },
  {
   "cell_type": "code",
   "execution_count": 25,
   "id": "0e62ab24",
   "metadata": {},
   "outputs": [],
   "source": [
    "dataset.set_split(\"test\")\n",
    "batch_gen = gen_batches(dataset, batch_size=args.batch_size, device=args.device)\n",
    "running_loss = 0.0\n",
    "running_acc = 0.0\n",
    "clf.eval()\n",
    "for batch_index, batch_dict in enumerate(batch_gen):\n",
    "    # Compute output\n",
    "    y_pred = clf(inputs=batch_dict[\"features\"].float())\n",
    "    # Compute loss\n",
    "    loss = loss_f(y_pred, batch_dict[\"labels\"].float())\n",
    "    loss_batch = loss.item()\n",
    "    running_loss += (loss_batch-running_loss) / (batch_index+1)\n",
    "    # Compute accuracy\n",
    "    acc_batch = compute_accuracy(y_pred, batch_dict[\"labels\"])\n",
    "    running_acc += (acc_batch-running_acc) / (batch_index+1)\n",
    "\n",
    "train_state[\"test_loss\"] = running_loss\n",
    "train_state[\"test_acc\"] = running_acc"
   ]
  },
  {
   "cell_type": "code",
   "execution_count": 26,
   "id": "3d847716",
   "metadata": {},
   "outputs": [
    {
     "name": "stdout",
     "output_type": "stream",
     "text": [
      "Test accuracy: 69.921875\n",
      "Test loss    : 0.8867103159427643\n"
     ]
    }
   ],
   "source": [
    "print(f\"Test accuracy: {train_state['test_acc']}\")\n",
    "print(f\"Test loss    : {train_state['test_loss']}\")"
   ]
  },
  {
   "cell_type": "markdown",
   "id": "3468ef50",
   "metadata": {},
   "source": [
    "#### Test the model on new data points"
   ]
  },
  {
   "cell_type": "code",
   "execution_count": 27,
   "id": "b1287d09",
   "metadata": {},
   "outputs": [],
   "source": [
    "import re\n",
    "def preprocess_text(text):\n",
    "    if type(text) == float:\n",
    "        print(text)\n",
    "    text = text.lower()\n",
    "    text = re.sub(r\"([.,!?])\", r\" \\1 \", text)\n",
    "    text = re.sub(r\"[^a-zA-Z.,!?]+\", r\" \", text)\n",
    "    return text\n",
    "\n",
    "def predict_injury(narrative, clf, vectorizer, decision_threshold=0.5):\n",
    "    \"\"\"Predict the injury degree\n",
    "    Args:\n",
    "        review (str): the narrative\n",
    "        clf (NarrativeClassifier): the trained model\n",
    "        vectorizer (OHVectorizer): the one-hot vectorizer\n",
    "        decision_threshold (float): The numerical boundary which separates the rating classes\n",
    "    \"\"\"\n",
    "    narrative = preprocess_text(narrative)\n",
    "    vectorized_narr = torch.tensor(vectorizer.vectorize(narrative)).to(args.device)\n",
    "    result = clf(vectorized_narr.view(1, -1))\n",
    "    probability_value = torch.sigmoid(result).item()\n",
    "    index = 1\n",
    "    if probability_value < decision_threshold:\n",
    "        index = 0\n",
    "    return vectorizer.injury_codes.lookup_index(index)"
   ]
  },
  {
   "cell_type": "code",
   "execution_count": 28,
   "id": "5367f123",
   "metadata": {},
   "outputs": [
    {
     "name": "stdout",
     "output_type": "stream",
     "text": [
      "employee fell and hurt their hand -> Non-Serious Injury\n"
     ]
    }
   ],
   "source": [
    "narr = \"employee fell and hurt their hand\"\n",
    "prediction = predict_injury(narr, clf, vectorizer)\n",
    "print(\"{} -> {}\".format(narr, binary_class_dict[prediction]))"
   ]
  },
  {
   "cell_type": "markdown",
   "id": "dd730ef6",
   "metadata": {},
   "source": [
    "#### Discussion"
   ]
  },
  {
   "cell_type": "markdown",
   "id": "d502e9f7",
   "metadata": {},
   "source": [
    "Clearly the above model is not fantastic, but at around 70% accuracy on the test set it's actually not quite as bad as I'd expect. The above example of a user-inputted narrative shows that the model may be seeing something about other words that lead to less serious injuries, as I struggled to make a sentence that it would classify as a Non-Serious Injury."
   ]
  },
  {
   "cell_type": "markdown",
   "id": "05b5e1d4",
   "metadata": {},
   "source": [
    "### `Conv1D` CNN model"
   ]
  },
  {
   "cell_type": "markdown",
   "id": "7e510efd",
   "metadata": {},
   "source": [
    "Below is defined a basic CNN using `Conv1d` cells, for sequences. This model must take data vectorized by the `PEVectorizer` vectorizer, since it handles embeddings inside of its `__init__`."
   ]
  },
  {
   "cell_type": "code",
   "execution_count": 29,
   "id": "7645a80e",
   "metadata": {},
   "outputs": [],
   "source": [
    "class NarrativeCNNClassifier(nn.Module):\n",
    "    \"\"\"Narrative CNN Classifier\"\"\"\n",
    "    def __init__(self, embedding_size, num_embeddings, num_channels, hidden_dim, num_classes, dropout_p, pretrained_embeddings=None, padding_idx=0):\n",
    "        \"\"\"\n",
    "        Args:\n",
    "            embedding_size (int): size of the embedding vectors\n",
    "            num_embeddings (int): number of embedding vectors\n",
    "            filter_width (int): width of the convolutional kernels\n",
    "            num_channels (int): number of convolutional kernels per layer\n",
    "            hidden_dim (int): the size of the hidden dimension\n",
    "            num_classes (int): the number of classes in classification\n",
    "            dropout_p (float): a dropout parameter \n",
    "            pretrained_embeddings (numpy.array): previously trained word embeddings default is None. If provided, \n",
    "            padding_idx (int): an index representing a null position\n",
    "        \"\"\"\n",
    "        super(NarrativeCNNClassifier, self).__init__()\n",
    "        \n",
    "        if pretrained_embeddings is None:\n",
    "            self.emb = nn.Embedding(embedding_dim=embedding_size,\n",
    "                                    num_embeddings=num_embeddings,\n",
    "                                    padding_idx=padding_idx)        \n",
    "        else:\n",
    "            pretrained_embeddings = torch.from_numpy(pretrained_embeddings).float()\n",
    "            self.emb = nn.Embedding(embedding_dim=embedding_size,\n",
    "                                    num_embeddings=num_embeddings,\n",
    "                                    padding_idx=padding_idx,\n",
    "                                    _weight=pretrained_embeddings)\n",
    "        \n",
    "        self.model = nn.Sequential(nn.Conv1d(in_channels=embedding_size,\n",
    "                                             out_channels=num_channels,\n",
    "                                             kernel_size=3),\n",
    "                                   nn.ELU(),\n",
    "                                   nn.Conv1d(in_channels=num_channels,\n",
    "                                             out_channels=num_channels,\n",
    "                                             kernel_size=3,\n",
    "                                             stride=2),\n",
    "                                   nn.ELU(),\n",
    "                                   nn.Conv1d(in_channels=num_channels,\n",
    "                                             out_channels=num_channels,\n",
    "                                             kernel_size=3),\n",
    "                                   nn.ELU()\n",
    "                                  )\n",
    "        \n",
    "        self._dropout_p = dropout_p\n",
    "        \n",
    "        self.relu    = nn.ReLU()\n",
    "        self.dense1  = nn.Linear(num_channels, hidden_dim)\n",
    "        self.dense2  = nn.Linear(hidden_dim, num_classes)\n",
    "        self.sigmoid = nn.Sigmoid()\n",
    "        \n",
    "    def forward(self, inputs, apply_sigmoid=False):\n",
    "        \"\"\"Forward pass\n",
    "        Args:\n",
    "            inputs (torch.Tensor): Input data tensor, inputs.shape = (batch_size, batch._max_seq_len)\n",
    "            apply_sigmoid (bool): True to use sigmoid activation function\n",
    "        Returns:\n",
    "            Output tensor, tensor.shape = (batch, num_classes)\n",
    "        \"\"\"\n",
    "        # inputs = (batch size, number of features)\n",
    "        x_emb = self.emb(inputs).permute(0, 2, 1)\n",
    "        # x embedded = ()\n",
    "        \n",
    "        x = self.model(x_emb)\n",
    "        \n",
    "        rem_size = x.size(dim=2)\n",
    "        x = F.avg_pool1d(x, rem_size).squeeze(dim=2)\n",
    "        x = F.dropout(x, p=self._dropout_p)\n",
    "        \n",
    "        x = self.dense1(x)\n",
    "        x = F.dropout(x, p=self._dropout_p)\n",
    "        x = self.relu(x)\n",
    "        x = self.dense2(x)\n",
    "        \n",
    "        if apply_sigmoid:\n",
    "            x = self.sigmoid(x)\n",
    "        return x"
   ]
  },
  {
   "cell_type": "markdown",
   "id": "3a28889a",
   "metadata": {},
   "source": [
    "Define arguments for the CNN"
   ]
  },
  {
   "cell_type": "code",
   "execution_count": 30,
   "id": "37dbb38f",
   "metadata": {},
   "outputs": [],
   "source": [
    "from argparse import Namespace\n",
    "args = Namespace(\n",
    "    frequency_cutoff=0,\n",
    "    narrative_folder_path=\"./data/task1/\",\n",
    "    model_state_file=\"./data/task1/CNNmodel.pth\",\n",
    "    vectorizer_file=\"./data/task1/CNNvectorizer.json\",\n",
    "    save_dir=\"./data/task2/\",\n",
    "    glove_file=\"./data/glove.6B/glove.6B.100d.txt\",\n",
    "    batch_size=128,\n",
    "    early_stopping_criteria=5,\n",
    "    learning_rate=0.001,\n",
    "    num_epochs=100,\n",
    "    seed=9,\n",
    "    # Runtime options\n",
    "    cuda=True,\n",
    "    device='cuda',\n",
    "    use_glove=False,\n",
    "    embedding_size=100,\n",
    "    dropout_p=0.1,\n",
    "    num_channels=100,\n",
    "    hidden_dim=5\n",
    ")"
   ]
  },
  {
   "cell_type": "markdown",
   "id": "ec5203ec",
   "metadata": {},
   "source": [
    "Define/Redefine some auxiliary functions"
   ]
  },
  {
   "cell_type": "code",
   "execution_count": 31,
   "id": "e1deed61",
   "metadata": {},
   "outputs": [],
   "source": [
    "import torch.optim as optim\n",
    "\n",
    "def make_train_state(args):\n",
    "    return {\"epoch_index\": 0,\n",
    "            \"train_loss\": [],\n",
    "            \"train_acc\": [],\n",
    "            \"valid_loss\": [],\n",
    "            \"valid_acc\": [],\n",
    "            \"test_loss\": 1,\n",
    "            \"test_acc\": 1,\n",
    "            \"learning_rate\":args.learning_rate,\n",
    "            \"stop_early\":False,\n",
    "            \"early_stopping_step\":0,\n",
    "            \"early_stopping_best_valid\": 1e8,\n",
    "            \"model_filename\": args.model_state_file}"
   ]
  },
  {
   "cell_type": "markdown",
   "id": "3dfb6079",
   "metadata": {},
   "source": [
    "Since the CNN model can take embeddings, we can load predefined embeddings for the data from a file using GloVe. Below are the functions to load and prepare the embeddings for use. "
   ]
  },
  {
   "cell_type": "code",
   "execution_count": 32,
   "id": "2ce158a0",
   "metadata": {},
   "outputs": [],
   "source": [
    "def load_glove(glove_file):\n",
    "    \"\"\"Load GloVe embeddings from a file\n",
    "    Args:\n",
    "        glove_file (str): path to the glove embeddings\n",
    "    Returns:\n",
    "        list:\n",
    "            word_to_index (dict)\n",
    "            embeddings (numpy.ndarray)\n",
    "    \"\"\"\n",
    "    \n",
    "    word_to_index = {}\n",
    "    embeddings = []\n",
    "    with open(glove_file, encoding=\"utf8\") as fp:\n",
    "        for index, line in enumerate(fp):\n",
    "            line = line.split(\" \")\n",
    "            word_to_index[line[0]] = index\n",
    "            embedding_i = np.array([float(val) for val in line[1:]])\n",
    "            embeddings.append(embedding_i)\n",
    "    return word_to_index, np.stack(embeddings)\n",
    "    \n",
    "def make_embedding_matrix(glove_file, words):\n",
    "    \"\"\"Create embedding matrix for a specific set of words.\n",
    "    \n",
    "    Args:\n",
    "        glove_filepath (str): file path to the glove embeddings\n",
    "        words (list): list of words in the dataset\n",
    "    \"\"\"\n",
    "    word_to_idx, glove_embeddings = load_glove(glove_file)\n",
    "    embedding_size = glove_embeddings.shape[1]\n",
    "    \n",
    "    final_embeddings = np.zeros((len(words), embedding_size))\n",
    "\n",
    "    for i, word in enumerate(words):\n",
    "        if word in word_to_idx:\n",
    "            final_embeddings[i, :] = glove_embeddings[word_to_idx[word]]\n",
    "        else:\n",
    "            embedding_i = torch.ones(1, embedding_size)\n",
    "            torch.nn.init.xavier_uniform_(embedding_i)\n",
    "            final_embeddings[i, :] = embedding_i\n",
    "\n",
    "    return final_embeddings"
   ]
  },
  {
   "cell_type": "code",
   "execution_count": 33,
   "id": "8a57910c",
   "metadata": {},
   "outputs": [],
   "source": [
    "if not torch.cuda.is_available():\n",
    "    args.cuda = False\n",
    "args.device = torch.device(\"cuda\" if args.cuda else \"cpu\")\n",
    "\n",
    "args.use_glove = True"
   ]
  },
  {
   "cell_type": "code",
   "execution_count": 34,
   "id": "66c978fb",
   "metadata": {},
   "outputs": [],
   "source": [
    "dataset = Task1Dataset.load_dataset_make_vectorizer(args.narrative_folder_path, PEVectorizer)\n",
    "vectorizer = dataset.get_vectorizer()"
   ]
  },
  {
   "cell_type": "markdown",
   "id": "871b90bf",
   "metadata": {},
   "source": [
    "Here is the loading of the embeddings, which then get passed into the classifier in the next cell below."
   ]
  },
  {
   "cell_type": "code",
   "execution_count": 35,
   "id": "ddb53341",
   "metadata": {},
   "outputs": [],
   "source": [
    "if args.use_glove:\n",
    "    words = vectorizer.narrative_vocab._tok_to_idx.keys()\n",
    "    embeddings = make_embedding_matrix(glove_file=args.glove_file, words=words)\n",
    "else:\n",
    "    embeddings = None"
   ]
  },
  {
   "cell_type": "code",
   "execution_count": 36,
   "id": "5e25568c",
   "metadata": {},
   "outputs": [],
   "source": [
    "clf = NarrativeCNNClassifier(embedding_size=args.embedding_size,\n",
    "                             num_embeddings=len(vectorizer.narrative_vocab),\n",
    "                             num_channels=args.num_channels,\n",
    "                             hidden_dim=args.hidden_dim,\n",
    "                             num_classes=1,\n",
    "                             dropout_p=args.dropout_p,\n",
    "                             pretrained_embeddings=embeddings,\n",
    "                             padding_idx=0)\n",
    "clf = clf.to(args.device)"
   ]
  },
  {
   "cell_type": "markdown",
   "id": "3708f293",
   "metadata": {},
   "source": [
    "Redefine the loss function, optimizer and a scheduler for early stopping."
   ]
  },
  {
   "cell_type": "code",
   "execution_count": 37,
   "id": "86c13a32",
   "metadata": {},
   "outputs": [],
   "source": [
    "loss_f    = nn.BCEWithLogitsLoss()\n",
    "optimizer = optim.Adam(clf.parameters(), lr=args.learning_rate)\n",
    "scheduler = optim.lr_scheduler.ReduceLROnPlateau(optimizer=optimizer, mode='min', factor=0.5, patience=1)"
   ]
  },
  {
   "cell_type": "markdown",
   "id": "18a168b4",
   "metadata": {},
   "source": [
    "#### Training"
   ]
  },
  {
   "cell_type": "markdown",
   "id": "f46e55ab",
   "metadata": {},
   "source": [
    "Similarly to the last training session, this takes about 2 minutes on my machine, and will be much quicker on most machines."
   ]
  },
  {
   "cell_type": "code",
   "execution_count": 38,
   "id": "0ce43ee1",
   "metadata": {
    "scrolled": false
   },
   "outputs": [
    {
     "data": {
      "application/vnd.jupyter.widget-view+json": {
       "model_id": "f65e560e0b3744f681aad690326565e3",
       "version_major": 2,
       "version_minor": 0
      },
      "text/plain": [
       "Epoch:   0%|          | 0/100 [00:00<?, ?it/s]"
      ]
     },
     "metadata": {},
     "output_type": "display_data"
    },
    {
     "data": {
      "application/vnd.jupyter.widget-view+json": {
       "model_id": "9b4f48181a00440aad959b7c81ac54f7",
       "version_major": 2,
       "version_minor": 0
      },
      "text/plain": [
       "Train Split:   0%|          | 0/8 [00:00<?, ?it/s]"
      ]
     },
     "metadata": {},
     "output_type": "display_data"
    }
   ],
   "source": [
    "train_state = make_train_state(args)\n",
    "\n",
    "epoch_bar = tqdm(desc=\"Epoch\", \n",
    "                 total=args.num_epochs, \n",
    "                 position=0)\n",
    "\n",
    "dataset.set_split('train')\n",
    "train_bar = tqdm(desc='Train Split', \n",
    "                 total=dataset.get_num_batches(args.batch_size), \n",
    "                 position=1, \n",
    "                 leave=True)\n",
    "\n",
    "for epoch_index in range(args.num_epochs):\n",
    "    train_state[\"epoch_index\"] = epoch_index\n",
    "    \n",
    "    # Training dataset\n",
    "    dataset.set_split(\"train\")\n",
    "    batch_gen = gen_batches(dataset, batch_size=args.batch_size, device=args.device)\n",
    "    running_loss = 0.0\n",
    "    running_acc = 0.0\n",
    "    clf.train()\n",
    "    for batch_index, batch_dict in enumerate(batch_gen):\n",
    "        # Zero gradients\n",
    "        optimizer.zero_grad()\n",
    "        # Compute output\n",
    "        y_pred = clf(inputs=batch_dict[\"features\"]).squeeze()\n",
    "        # Compute loss\n",
    "        loss = loss_f(y_pred, batch_dict[\"labels\"].float())\n",
    "        loss_batch = loss.item()\n",
    "        running_loss += (loss_batch-running_loss) / (batch_index+1)\n",
    "        # Compute gradiends using loss\n",
    "        loss.backward()\n",
    "        # Use optimizer to take gradient step\n",
    "        optimizer.step()\n",
    "        # Compute accuracy\n",
    "        acc_batch = compute_accuracy(y_pred, batch_dict[\"labels\"])\n",
    "        running_acc += (acc_batch-running_acc) / (batch_index+1)\n",
    "        \n",
    "        # Update the bar\n",
    "        train_bar.set_postfix(loss=running_loss, acc=running_acc, epoch=epoch_index)\n",
    "        train_bar.update()\n",
    "            \n",
    "    train_state[\"train_loss\"].append(running_loss)\n",
    "    train_state[\"train_acc\"].append(running_acc)\n",
    "    \n",
    "    # Validation dataset\n",
    "    dataset.set_split(\"valid\")\n",
    "    batch_gen = gen_batches(dataset, batch_size=args.batch_size, device=args.device)\n",
    "    running_loss = 0.0\n",
    "    running_acc = 0.0\n",
    "    clf.eval()\n",
    "    \n",
    "    for batch_index, batch_dict in enumerate(batch_gen):\n",
    "        # Compute output\n",
    "        y_pred = clf(inputs=batch_dict[\"features\"]).squeeze()\n",
    "        # Compute loss\n",
    "        loss = loss_f(y_pred, batch_dict[\"labels\"].float())\n",
    "        loss_batch = loss.item()\n",
    "        running_loss += (loss_batch-running_loss) / (batch_index+1)\n",
    "        # Compute accuracy\n",
    "        acc_batch = compute_accuracy(y_pred, batch_dict[\"labels\"])\n",
    "        running_acc += (acc_batch-running_acc) / (batch_index+1)\n",
    "        \n",
    "    train_state[\"valid_loss\"].append(running_loss)\n",
    "    train_state[\"valid_acc\"].append(running_acc)\n",
    "    \n",
    "    train_state = update_train_state(args=args, model=clf, train_state=train_state)\n",
    "\n",
    "    scheduler.step(train_state['valid_loss'][-1])\n",
    "\n",
    "    if train_state['stop_early']:\n",
    "        break\n",
    "        \n",
    "    train_bar.n = 0\n",
    "    epoch_bar.update()"
   ]
  },
  {
   "cell_type": "markdown",
   "id": "57145d5a",
   "metadata": {},
   "source": [
    "#### Evaluate on test set"
   ]
  },
  {
   "cell_type": "code",
   "execution_count": 39,
   "id": "e2670871",
   "metadata": {},
   "outputs": [],
   "source": [
    "# Test dataset\n",
    "dataset.set_split(\"test\")\n",
    "batch_gen = gen_batches(dataset, batch_size=args.batch_size, device=args.device)\n",
    "running_loss = 0.0\n",
    "running_acc = 0.0\n",
    "clf.eval()\n",
    "\n",
    "for batch_index, batch_dict in enumerate(batch_gen):\n",
    "    # Compute output\n",
    "    y_pred = clf(inputs=batch_dict[\"features\"]).squeeze()\n",
    "    # Compute loss\n",
    "    loss = loss_f(y_pred, batch_dict[\"labels\"].float())\n",
    "    loss_batch = loss.item()\n",
    "    running_loss += (loss_batch-running_loss) / (batch_index+1)\n",
    "    # Compute accuracy\n",
    "    acc_batch = compute_accuracy(y_pred, batch_dict[\"labels\"])\n",
    "    running_acc += (acc_batch-running_acc) / (batch_index+1)\n",
    "\n",
    "train_state[\"test_loss\"] = running_loss\n",
    "train_state[\"test_acc\"] = running_acc"
   ]
  },
  {
   "cell_type": "code",
   "execution_count": 40,
   "id": "6a096587",
   "metadata": {},
   "outputs": [
    {
     "name": "stdout",
     "output_type": "stream",
     "text": [
      "Test accuracy: 66.796875\n",
      "Test loss    : 0.7414430379867554\n"
     ]
    }
   ],
   "source": [
    "print(f\"Test accuracy: {train_state['test_acc']}\")\n",
    "print(f\"Test loss    : {train_state['test_loss']}\")"
   ]
  },
  {
   "cell_type": "markdown",
   "id": "7aa1bc09",
   "metadata": {},
   "source": [
    "### Comparison of the MLP and the CNN"
   ]
  },
  {
   "cell_type": "markdown",
   "id": "ac023787",
   "metadata": {},
   "source": [
    "There are many things in the above two sections that could be improved. First of all, the hyperparameters were barely tested due to time constraints (I just wanted to get the models down as soon as possible). The optimizer and learning rate were chosen as Adam, and 0.001 as Adam is an optimizer I am familiar with and it is what is used in the labs, and the learning is typically regarded as the best all-round `lr` for Adam. Also, my computer is unable to run on the full `us_data` dataset without slowing to a crawl, so I didn't test on it.\n",
    "\n",
    "The MLP and CNN with mostly the same test accuracies and losses, but the CNN is definitely more sensetive, as sometimes it will just sit at ~36% train accuracy for the entire training loop, and give the same on the test set.\n",
    "\n",
    "I was under the impression that a CNN would be better for the data, as MLPs tend to be a little basic for something as complicated as predicting the meaning of a sentence. But clearly in my implementation of both, the MLP is a better bet than the CNN. "
   ]
  }
 ],
 "metadata": {
  "kernelspec": {
   "display_name": "Python 3 (ipykernel)",
   "language": "python",
   "name": "python3"
  },
  "language_info": {
   "codemirror_mode": {
    "name": "ipython",
    "version": 3
   },
   "file_extension": ".py",
   "mimetype": "text/x-python",
   "name": "python",
   "nbconvert_exporter": "python",
   "pygments_lexer": "ipython3",
   "version": "3.8.11"
  }
 },
 "nbformat": 4,
 "nbformat_minor": 5
}
