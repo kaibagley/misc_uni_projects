{
 "cells": [
  {
   "cell_type": "markdown",
   "id": "b80f34e2",
   "metadata": {},
   "source": [
    "# Project 1"
   ]
  },
  {
   "cell_type": "markdown",
   "id": "ecf98ea2",
   "metadata": {},
   "source": [
    "Kai Bagley - 21984315"
   ]
  },
  {
   "cell_type": "markdown",
   "id": "c6737fb3",
   "metadata": {},
   "source": [
    "## Data Exploration"
   ]
  },
  {
   "cell_type": "markdown",
   "id": "96d78a87",
   "metadata": {},
   "source": [
    "#### Imports"
   ]
  },
  {
   "cell_type": "code",
   "execution_count": 5,
   "id": "f7423b03",
   "metadata": {},
   "outputs": [],
   "source": [
    "import pandas as pd\n",
    "import numpy as np\n",
    "import matplotlib.pyplot as plt\n",
    "import nltk\n",
    "import spacy\n",
    "from spacy.matcher import Matcher, DependencyMatcher\n",
    "from nltk.tokenize import word_tokenize\n",
    "from nltk.stem import WordNetLemmatizer\n",
    "from string import punctuation"
   ]
  },
  {
   "cell_type": "markdown",
   "id": "ef921b5e",
   "metadata": {},
   "source": [
    "#### Load JSON file"
   ]
  },
  {
   "cell_type": "code",
   "execution_count": 6,
   "id": "8ab55a43",
   "metadata": {},
   "outputs": [],
   "source": [
    "df = pd.read_json(\"./frames.json\")"
   ]
  },
  {
   "cell_type": "markdown",
   "id": "a583b908",
   "metadata": {},
   "source": [
    "##### Main Table"
   ]
  },
  {
   "cell_type": "code",
   "execution_count": 7,
   "id": "1e90f237",
   "metadata": {},
   "outputs": [
    {
     "data": {
      "text/html": [
       "<div>\n",
       "<style scoped>\n",
       "    .dataframe tbody tr th:only-of-type {\n",
       "        vertical-align: middle;\n",
       "    }\n",
       "\n",
       "    .dataframe tbody tr th {\n",
       "        vertical-align: top;\n",
       "    }\n",
       "\n",
       "    .dataframe thead th {\n",
       "        text-align: right;\n",
       "    }\n",
       "</style>\n",
       "<table border=\"1\" class=\"dataframe\">\n",
       "  <thead>\n",
       "    <tr style=\"text-align: right;\">\n",
       "      <th></th>\n",
       "      <th>user_id</th>\n",
       "      <th>turns</th>\n",
       "      <th>wizard_id</th>\n",
       "      <th>id</th>\n",
       "      <th>labels</th>\n",
       "    </tr>\n",
       "  </thead>\n",
       "  <tbody>\n",
       "    <tr>\n",
       "      <th>0</th>\n",
       "      <td>U22HTHYNP</td>\n",
       "      <td>[{'text': 'I'd like to book a trip to Atlantis...</td>\n",
       "      <td>U21DKG18C</td>\n",
       "      <td>e2c0fc6c-2134-4891-8353-ef16d8412c9a</td>\n",
       "      <td>{'userSurveyRating': 4.0, 'wizardSurveyTaskSuc...</td>\n",
       "    </tr>\n",
       "    <tr>\n",
       "      <th>1</th>\n",
       "      <td>U21E41CQP</td>\n",
       "      <td>[{'text': 'Hello, I am looking to book a vacat...</td>\n",
       "      <td>U21DMV0KA</td>\n",
       "      <td>4a3bfa39-2c22-42c8-8694-32b4e34415e9</td>\n",
       "      <td>{'userSurveyRating': 3.0, 'wizardSurveyTaskSuc...</td>\n",
       "    </tr>\n",
       "    <tr>\n",
       "      <th>2</th>\n",
       "      <td>U21RP4FCY</td>\n",
       "      <td>[{'text': 'Hello there i am looking to go on a...</td>\n",
       "      <td>U21E0179B</td>\n",
       "      <td>6e67ed28-e94c-4fab-96b6-68569a92682f</td>\n",
       "      <td>{'userSurveyRating': 2.0, 'wizardSurveyTaskSuc...</td>\n",
       "    </tr>\n",
       "    <tr>\n",
       "      <th>3</th>\n",
       "      <td>U22HTHYNP</td>\n",
       "      <td>[{'text': 'Hi I'd like to go to Caprica from B...</td>\n",
       "      <td>U21DKG18C</td>\n",
       "      <td>5ae76e50-5b48-4166-9f6d-67aaabd7bcaa</td>\n",
       "      <td>{'userSurveyRating': 5.0, 'wizardSurveyTaskSuc...</td>\n",
       "    </tr>\n",
       "    <tr>\n",
       "      <th>4</th>\n",
       "      <td>U21E41CQP</td>\n",
       "      <td>[{'text': 'Hello, I am looking to book a trip ...</td>\n",
       "      <td>U21DMV0KA</td>\n",
       "      <td>24603086-bb53-431e-a0d8-1dcc63518ba9</td>\n",
       "      <td>{'userSurveyRating': 5.0, 'wizardSurveyTaskSuc...</td>\n",
       "    </tr>\n",
       "  </tbody>\n",
       "</table>\n",
       "</div>"
      ],
      "text/plain": [
       "     user_id                                              turns  wizard_id  \\\n",
       "0  U22HTHYNP  [{'text': 'I'd like to book a trip to Atlantis...  U21DKG18C   \n",
       "1  U21E41CQP  [{'text': 'Hello, I am looking to book a vacat...  U21DMV0KA   \n",
       "2  U21RP4FCY  [{'text': 'Hello there i am looking to go on a...  U21E0179B   \n",
       "3  U22HTHYNP  [{'text': 'Hi I'd like to go to Caprica from B...  U21DKG18C   \n",
       "4  U21E41CQP  [{'text': 'Hello, I am looking to book a trip ...  U21DMV0KA   \n",
       "\n",
       "                                     id  \\\n",
       "0  e2c0fc6c-2134-4891-8353-ef16d8412c9a   \n",
       "1  4a3bfa39-2c22-42c8-8694-32b4e34415e9   \n",
       "2  6e67ed28-e94c-4fab-96b6-68569a92682f   \n",
       "3  5ae76e50-5b48-4166-9f6d-67aaabd7bcaa   \n",
       "4  24603086-bb53-431e-a0d8-1dcc63518ba9   \n",
       "\n",
       "                                              labels  \n",
       "0  {'userSurveyRating': 4.0, 'wizardSurveyTaskSuc...  \n",
       "1  {'userSurveyRating': 3.0, 'wizardSurveyTaskSuc...  \n",
       "2  {'userSurveyRating': 2.0, 'wizardSurveyTaskSuc...  \n",
       "3  {'userSurveyRating': 5.0, 'wizardSurveyTaskSuc...  \n",
       "4  {'userSurveyRating': 5.0, 'wizardSurveyTaskSuc...  "
      ]
     },
     "execution_count": 7,
     "metadata": {},
     "output_type": "execute_result"
    }
   ],
   "source": [
    "df.head()"
   ]
  },
  {
   "cell_type": "markdown",
   "id": "3f8a9094",
   "metadata": {},
   "source": [
    "##### Main -> Labels"
   ]
  },
  {
   "cell_type": "markdown",
   "id": "b6b4ec58",
   "metadata": {},
   "source": [
    "`userSurveyRating` that shows the users satisfaction, from 1 - 5.\n",
    "`wizardSurveyTaskSuccessful` is a boolean value, shows whether or not the user's goal was successful"
   ]
  },
  {
   "cell_type": "markdown",
   "id": "097e18ab",
   "metadata": {},
   "source": [
    "##### Main -> Turns"
   ]
  },
  {
   "cell_type": "code",
   "execution_count": 8,
   "id": "f895ccd0",
   "metadata": {
    "scrolled": true
   },
   "outputs": [
    {
     "data": {
      "text/html": [
       "<div>\n",
       "<style scoped>\n",
       "    .dataframe tbody tr th:only-of-type {\n",
       "        vertical-align: middle;\n",
       "    }\n",
       "\n",
       "    .dataframe tbody tr th {\n",
       "        vertical-align: top;\n",
       "    }\n",
       "\n",
       "    .dataframe thead th {\n",
       "        text-align: right;\n",
       "    }\n",
       "</style>\n",
       "<table border=\"1\" class=\"dataframe\">\n",
       "  <thead>\n",
       "    <tr style=\"text-align: right;\">\n",
       "      <th></th>\n",
       "      <th>0</th>\n",
       "      <th>1</th>\n",
       "      <th>2</th>\n",
       "      <th>3</th>\n",
       "      <th>4</th>\n",
       "      <th>5</th>\n",
       "      <th>6</th>\n",
       "      <th>7</th>\n",
       "      <th>8</th>\n",
       "      <th>9</th>\n",
       "      <th>...</th>\n",
       "      <th>38</th>\n",
       "      <th>39</th>\n",
       "      <th>40</th>\n",
       "      <th>41</th>\n",
       "      <th>42</th>\n",
       "      <th>43</th>\n",
       "      <th>44</th>\n",
       "      <th>45</th>\n",
       "      <th>46</th>\n",
       "      <th>47</th>\n",
       "    </tr>\n",
       "  </thead>\n",
       "  <tbody>\n",
       "    <tr>\n",
       "      <th>0</th>\n",
       "      <td>{'text': 'I'd like to book a trip to Atlantis ...</td>\n",
       "      <td>{'text': 'Hi...I checked a few options for you...</td>\n",
       "      <td>{'text': 'Yes, how about going to Neverland fr...</td>\n",
       "      <td>{'text': 'I checked the availability for this ...</td>\n",
       "      <td>{'text': 'I have no flexibility for dates... b...</td>\n",
       "      <td>{'text': 'I checked the availability for that ...</td>\n",
       "      <td>{'text': 'I suppose I'll speak with my husband...</td>\n",
       "      <td>None</td>\n",
       "      <td>None</td>\n",
       "      <td>None</td>\n",
       "      <td>...</td>\n",
       "      <td>None</td>\n",
       "      <td>None</td>\n",
       "      <td>None</td>\n",
       "      <td>None</td>\n",
       "      <td>None</td>\n",
       "      <td>None</td>\n",
       "      <td>None</td>\n",
       "      <td>None</td>\n",
       "      <td>None</td>\n",
       "      <td>None</td>\n",
       "    </tr>\n",
       "    <tr>\n",
       "      <th>1</th>\n",
       "      <td>{'text': 'Hello, I am looking to book a vacati...</td>\n",
       "      <td>{'text': 'Hi. Sorry, I can't find any trips fr...</td>\n",
       "      <td>{'text': 'What about a trip from Gotham City t...</td>\n",
       "      <td>{'text': 'Sorry, I cannot find any trips leavi...</td>\n",
       "      <td>{'text': 'Would any packages to Mos Eisley be ...</td>\n",
       "      <td>{'text': 'There are no trips available to Mos ...</td>\n",
       "      <td>{'text': 'You know what, I'd like to try and v...</td>\n",
       "      <td>{'text': 'I cannot find any trips available to...</td>\n",
       "      <td>{'text': 'Do you have any trips from Gotham Ci...</td>\n",
       "      <td>{'text': 'I can book you a 3 day trip to Kobe ...</td>\n",
       "      <td>...</td>\n",
       "      <td>None</td>\n",
       "      <td>None</td>\n",
       "      <td>None</td>\n",
       "      <td>None</td>\n",
       "      <td>None</td>\n",
       "      <td>None</td>\n",
       "      <td>None</td>\n",
       "      <td>None</td>\n",
       "      <td>None</td>\n",
       "      <td>None</td>\n",
       "    </tr>\n",
       "    <tr>\n",
       "      <th>2</th>\n",
       "      <td>{'text': 'Hello there i am looking to go on a ...</td>\n",
       "      <td>{'text': 'when  would you like to travel and h...</td>\n",
       "      <td>{'text': 'Not sure when we want to leave, but ...</td>\n",
       "      <td>{'text': 'do you have a budget?', 'author': 'w...</td>\n",
       "      <td>{'text': 'yes i do, it is around $2200', 'auth...</td>\n",
       "      <td>{'text': 'where will you be travelling from?',...</td>\n",
       "      <td>{'text': 'We are from Neverland', 'author': 'u...</td>\n",
       "      <td>{'text': 'We have nothing available leaving fr...</td>\n",
       "      <td>{'text': 'we can depart from Toronto', 'author...</td>\n",
       "      <td>{'text': 'Gotham City is not a destination we ...</td>\n",
       "      <td>...</td>\n",
       "      <td>None</td>\n",
       "      <td>None</td>\n",
       "      <td>None</td>\n",
       "      <td>None</td>\n",
       "      <td>None</td>\n",
       "      <td>None</td>\n",
       "      <td>None</td>\n",
       "      <td>None</td>\n",
       "      <td>None</td>\n",
       "      <td>None</td>\n",
       "    </tr>\n",
       "    <tr>\n",
       "      <th>3</th>\n",
       "      <td>{'text': 'Hi I'd like to go to Caprica from Bu...</td>\n",
       "      <td>{'text': 'And what would be your maximum budge...</td>\n",
       "      <td>{'text': 'Actually it's unlimited for this tri...</td>\n",
       "      <td>{'text': 'How many adults and how many childre...</td>\n",
       "      <td>{'text': '2 adults', 'author': 'user', 'timest...</td>\n",
       "      <td>{'text': 'I have no trips to Caprica from Busa...</td>\n",
       "      <td>{'text': 'Do you have anything for San Antonio...</td>\n",
       "      <td>{'text': 'Yes, I do.  I have one for 8445.37 U...</td>\n",
       "      <td>{'text': 'Is breakfast included?', 'author': '...</td>\n",
       "      <td>{'text': 'Yes, it is.', 'author': 'wizard', 't...</td>\n",
       "      <td>...</td>\n",
       "      <td>None</td>\n",
       "      <td>None</td>\n",
       "      <td>None</td>\n",
       "      <td>None</td>\n",
       "      <td>None</td>\n",
       "      <td>None</td>\n",
       "      <td>None</td>\n",
       "      <td>None</td>\n",
       "      <td>None</td>\n",
       "      <td>None</td>\n",
       "    </tr>\n",
       "    <tr>\n",
       "      <th>4</th>\n",
       "      <td>{'text': 'Hello, I am looking to book a trip f...</td>\n",
       "      <td>{'text': 'I have several options available wit...</td>\n",
       "      <td>{'text': 'I do not have any dates in mind. I w...</td>\n",
       "      <td>{'text': 'I can book 7 days at a 4.0 star hote...</td>\n",
       "      <td>{'text': 'Do these packages have different dep...</td>\n",
       "      <td>{'text': 'The 3.0 star trip leaves Kochi Augus...</td>\n",
       "      <td>{'text': 'Ok, I would like to purchase the tri...</td>\n",
       "      <td>{'text': 'Perfect, I will book that trip for y...</td>\n",
       "      <td>{'text': 'Thank you', 'author': 'user', 'times...</td>\n",
       "      <td>None</td>\n",
       "      <td>...</td>\n",
       "      <td>None</td>\n",
       "      <td>None</td>\n",
       "      <td>None</td>\n",
       "      <td>None</td>\n",
       "      <td>None</td>\n",
       "      <td>None</td>\n",
       "      <td>None</td>\n",
       "      <td>None</td>\n",
       "      <td>None</td>\n",
       "      <td>None</td>\n",
       "    </tr>\n",
       "  </tbody>\n",
       "</table>\n",
       "<p>5 rows × 48 columns</p>\n",
       "</div>"
      ],
      "text/plain": [
       "                                                  0   \\\n",
       "0  {'text': 'I'd like to book a trip to Atlantis ...   \n",
       "1  {'text': 'Hello, I am looking to book a vacati...   \n",
       "2  {'text': 'Hello there i am looking to go on a ...   \n",
       "3  {'text': 'Hi I'd like to go to Caprica from Bu...   \n",
       "4  {'text': 'Hello, I am looking to book a trip f...   \n",
       "\n",
       "                                                  1   \\\n",
       "0  {'text': 'Hi...I checked a few options for you...   \n",
       "1  {'text': 'Hi. Sorry, I can't find any trips fr...   \n",
       "2  {'text': 'when  would you like to travel and h...   \n",
       "3  {'text': 'And what would be your maximum budge...   \n",
       "4  {'text': 'I have several options available wit...   \n",
       "\n",
       "                                                  2   \\\n",
       "0  {'text': 'Yes, how about going to Neverland fr...   \n",
       "1  {'text': 'What about a trip from Gotham City t...   \n",
       "2  {'text': 'Not sure when we want to leave, but ...   \n",
       "3  {'text': 'Actually it's unlimited for this tri...   \n",
       "4  {'text': 'I do not have any dates in mind. I w...   \n",
       "\n",
       "                                                  3   \\\n",
       "0  {'text': 'I checked the availability for this ...   \n",
       "1  {'text': 'Sorry, I cannot find any trips leavi...   \n",
       "2  {'text': 'do you have a budget?', 'author': 'w...   \n",
       "3  {'text': 'How many adults and how many childre...   \n",
       "4  {'text': 'I can book 7 days at a 4.0 star hote...   \n",
       "\n",
       "                                                  4   \\\n",
       "0  {'text': 'I have no flexibility for dates... b...   \n",
       "1  {'text': 'Would any packages to Mos Eisley be ...   \n",
       "2  {'text': 'yes i do, it is around $2200', 'auth...   \n",
       "3  {'text': '2 adults', 'author': 'user', 'timest...   \n",
       "4  {'text': 'Do these packages have different dep...   \n",
       "\n",
       "                                                  5   \\\n",
       "0  {'text': 'I checked the availability for that ...   \n",
       "1  {'text': 'There are no trips available to Mos ...   \n",
       "2  {'text': 'where will you be travelling from?',...   \n",
       "3  {'text': 'I have no trips to Caprica from Busa...   \n",
       "4  {'text': 'The 3.0 star trip leaves Kochi Augus...   \n",
       "\n",
       "                                                  6   \\\n",
       "0  {'text': 'I suppose I'll speak with my husband...   \n",
       "1  {'text': 'You know what, I'd like to try and v...   \n",
       "2  {'text': 'We are from Neverland', 'author': 'u...   \n",
       "3  {'text': 'Do you have anything for San Antonio...   \n",
       "4  {'text': 'Ok, I would like to purchase the tri...   \n",
       "\n",
       "                                                  7   \\\n",
       "0                                               None   \n",
       "1  {'text': 'I cannot find any trips available to...   \n",
       "2  {'text': 'We have nothing available leaving fr...   \n",
       "3  {'text': 'Yes, I do.  I have one for 8445.37 U...   \n",
       "4  {'text': 'Perfect, I will book that trip for y...   \n",
       "\n",
       "                                                  8   \\\n",
       "0                                               None   \n",
       "1  {'text': 'Do you have any trips from Gotham Ci...   \n",
       "2  {'text': 'we can depart from Toronto', 'author...   \n",
       "3  {'text': 'Is breakfast included?', 'author': '...   \n",
       "4  {'text': 'Thank you', 'author': 'user', 'times...   \n",
       "\n",
       "                                                  9   ...    38    39    40  \\\n",
       "0                                               None  ...  None  None  None   \n",
       "1  {'text': 'I can book you a 3 day trip to Kobe ...  ...  None  None  None   \n",
       "2  {'text': 'Gotham City is not a destination we ...  ...  None  None  None   \n",
       "3  {'text': 'Yes, it is.', 'author': 'wizard', 't...  ...  None  None  None   \n",
       "4                                               None  ...  None  None  None   \n",
       "\n",
       "     41    42    43    44    45    46    47  \n",
       "0  None  None  None  None  None  None  None  \n",
       "1  None  None  None  None  None  None  None  \n",
       "2  None  None  None  None  None  None  None  \n",
       "3  None  None  None  None  None  None  None  \n",
       "4  None  None  None  None  None  None  None  \n",
       "\n",
       "[5 rows x 48 columns]"
      ]
     },
     "execution_count": 8,
     "metadata": {},
     "output_type": "execute_result"
    }
   ],
   "source": [
    "pd.json_normalize(df.turns).head()"
   ]
  },
  {
   "cell_type": "markdown",
   "id": "844e30c4",
   "metadata": {},
   "source": [
    "##### Main -> Turns -> Labels -> Frames"
   ]
  },
  {
   "cell_type": "code",
   "execution_count": 9,
   "id": "01468532",
   "metadata": {},
   "outputs": [
    {
     "data": {
      "text/html": [
       "<div>\n",
       "<style scoped>\n",
       "    .dataframe tbody tr th:only-of-type {\n",
       "        vertical-align: middle;\n",
       "    }\n",
       "\n",
       "    .dataframe tbody tr th {\n",
       "        vertical-align: top;\n",
       "    }\n",
       "\n",
       "    .dataframe thead th {\n",
       "        text-align: right;\n",
       "    }\n",
       "</style>\n",
       "<table border=\"1\" class=\"dataframe\">\n",
       "  <thead>\n",
       "    <tr style=\"text-align: right;\">\n",
       "      <th></th>\n",
       "      <th>info</th>\n",
       "      <th>frame_id</th>\n",
       "      <th>requests</th>\n",
       "      <th>frame_parent_id</th>\n",
       "      <th>binary_questions</th>\n",
       "      <th>compare_requests</th>\n",
       "    </tr>\n",
       "  </thead>\n",
       "  <tbody>\n",
       "    <tr>\n",
       "      <th>0</th>\n",
       "      <td>{'intent': [{'val': 'book', 'negated': False}]...</td>\n",
       "      <td>1</td>\n",
       "      <td>[]</td>\n",
       "      <td>None</td>\n",
       "      <td>[]</td>\n",
       "      <td>[]</td>\n",
       "    </tr>\n",
       "  </tbody>\n",
       "</table>\n",
       "</div>"
      ],
      "text/plain": [
       "                                                info  frame_id requests  \\\n",
       "0  {'intent': [{'val': 'book', 'negated': False}]...         1       []   \n",
       "\n",
       "  frame_parent_id binary_questions compare_requests  \n",
       "0            None               []               []  "
      ]
     },
     "execution_count": 9,
     "metadata": {},
     "output_type": "execute_result"
    }
   ],
   "source": [
    "pd.DataFrame(df.turns[0][0][\"labels\"][\"frames\"])"
   ]
  },
  {
   "cell_type": "markdown",
   "id": "a993ea13",
   "metadata": {},
   "source": [
    "Above is the `labels` -> `frames` structure, which is present in every single turn. This is shown above. "
   ]
  },
  {
   "cell_type": "markdown",
   "id": "eeb13171",
   "metadata": {},
   "source": [
    "The general structure of the `frames.json` file is shown above, with each row being a different instance of interaction between a wizard and a user. `user_id`, `wizard_id` and `id` are pretty self-explanatory, and `labels` is a user review, and a task success indicator.\n",
    "\n",
    "`turns` is where the conversation is stored, along with all the information gleaned by the wizard from the user, and any bookings the wizard could/couldn't find in the database."
   ]
  },
  {
   "cell_type": "markdown",
   "id": "48f470fb",
   "metadata": {},
   "source": [
    "#### What's the structure of a conversation in the `frames.json` file? Display it as a table"
   ]
  },
  {
   "cell_type": "code",
   "execution_count": 10,
   "id": "85d37fec",
   "metadata": {},
   "outputs": [
    {
     "data": {
      "text/html": [
       "<div>\n",
       "<style scoped>\n",
       "    .dataframe tbody tr th:only-of-type {\n",
       "        vertical-align: middle;\n",
       "    }\n",
       "\n",
       "    .dataframe tbody tr th {\n",
       "        vertical-align: top;\n",
       "    }\n",
       "\n",
       "    .dataframe thead th {\n",
       "        text-align: right;\n",
       "    }\n",
       "</style>\n",
       "<table border=\"1\" class=\"dataframe\">\n",
       "  <thead>\n",
       "    <tr style=\"text-align: right;\">\n",
       "      <th></th>\n",
       "      <th>text</th>\n",
       "      <th>labels</th>\n",
       "      <th>author</th>\n",
       "      <th>timestamp</th>\n",
       "      <th>db</th>\n",
       "    </tr>\n",
       "  </thead>\n",
       "  <tbody>\n",
       "    <tr>\n",
       "      <th>0</th>\n",
       "      <td>I'd like to book a trip to Atlantis from Capri...</td>\n",
       "      <td>{'acts': [{'args': [{'val': 'book', 'key': 'in...</td>\n",
       "      <td>user</td>\n",
       "      <td>1.471272e+12</td>\n",
       "      <td>NaN</td>\n",
       "    </tr>\n",
       "    <tr>\n",
       "      <th>1</th>\n",
       "      <td>Hi...I checked a few options for you, and unfo...</td>\n",
       "      <td>{'acts': [{'args': [{'val': [{'annotations': [...</td>\n",
       "      <td>wizard</td>\n",
       "      <td>1.471272e+12</td>\n",
       "      <td>{'result': [[{'trip': {'returning': {'duration...</td>\n",
       "    </tr>\n",
       "    <tr>\n",
       "      <th>2</th>\n",
       "      <td>Yes, how about going to Neverland from Caprica...</td>\n",
       "      <td>{'acts': [{'args': [{'val': 'Neverland', 'key'...</td>\n",
       "      <td>user</td>\n",
       "      <td>1.471273e+12</td>\n",
       "      <td>NaN</td>\n",
       "    </tr>\n",
       "    <tr>\n",
       "      <th>3</th>\n",
       "      <td>I checked the availability for this date and t...</td>\n",
       "      <td>{'acts': [{'args': [{'val': [{'annotations': [...</td>\n",
       "      <td>wizard</td>\n",
       "      <td>1.471273e+12</td>\n",
       "      <td>{'result': [[], [], [], [], [], []], 'search':...</td>\n",
       "    </tr>\n",
       "    <tr>\n",
       "      <th>4</th>\n",
       "      <td>I have no flexibility for dates... but I can l...</td>\n",
       "      <td>{'acts': [{'args': [{'val': False, 'key': 'fle...</td>\n",
       "      <td>user</td>\n",
       "      <td>1.471273e+12</td>\n",
       "      <td>NaN</td>\n",
       "    </tr>\n",
       "    <tr>\n",
       "      <th>5</th>\n",
       "      <td>I checked the availability for that date and t...</td>\n",
       "      <td>{'acts': [{'args': [{'val': [{'annotations': [...</td>\n",
       "      <td>wizard</td>\n",
       "      <td>1.471273e+12</td>\n",
       "      <td>{'result': [[]], 'search': [{'ORIGIN_CITY': 'A...</td>\n",
       "    </tr>\n",
       "    <tr>\n",
       "      <th>6</th>\n",
       "      <td>I suppose I'll speak with my husband to see if...</td>\n",
       "      <td>{'acts': [{'args': [], 'name': 'thankyou'}], '...</td>\n",
       "      <td>user</td>\n",
       "      <td>1.471273e+12</td>\n",
       "      <td>NaN</td>\n",
       "    </tr>\n",
       "  </tbody>\n",
       "</table>\n",
       "</div>"
      ],
      "text/plain": [
       "                                                text  \\\n",
       "0  I'd like to book a trip to Atlantis from Capri...   \n",
       "1  Hi...I checked a few options for you, and unfo...   \n",
       "2  Yes, how about going to Neverland from Caprica...   \n",
       "3  I checked the availability for this date and t...   \n",
       "4  I have no flexibility for dates... but I can l...   \n",
       "5  I checked the availability for that date and t...   \n",
       "6  I suppose I'll speak with my husband to see if...   \n",
       "\n",
       "                                              labels  author     timestamp  \\\n",
       "0  {'acts': [{'args': [{'val': 'book', 'key': 'in...    user  1.471272e+12   \n",
       "1  {'acts': [{'args': [{'val': [{'annotations': [...  wizard  1.471272e+12   \n",
       "2  {'acts': [{'args': [{'val': 'Neverland', 'key'...    user  1.471273e+12   \n",
       "3  {'acts': [{'args': [{'val': [{'annotations': [...  wizard  1.471273e+12   \n",
       "4  {'acts': [{'args': [{'val': False, 'key': 'fle...    user  1.471273e+12   \n",
       "5  {'acts': [{'args': [{'val': [{'annotations': [...  wizard  1.471273e+12   \n",
       "6  {'acts': [{'args': [], 'name': 'thankyou'}], '...    user  1.471273e+12   \n",
       "\n",
       "                                                  db  \n",
       "0                                                NaN  \n",
       "1  {'result': [[{'trip': {'returning': {'duration...  \n",
       "2                                                NaN  \n",
       "3  {'result': [[], [], [], [], [], []], 'search':...  \n",
       "4                                                NaN  \n",
       "5  {'result': [[]], 'search': [{'ORIGIN_CITY': 'A...  \n",
       "6                                                NaN  "
      ]
     },
     "execution_count": 10,
     "metadata": {},
     "output_type": "execute_result"
    }
   ],
   "source": [
    "pd.DataFrame(df.turns[0])"
   ]
  },
  {
   "cell_type": "markdown",
   "id": "83208fa3",
   "metadata": {},
   "source": [
    "Above is the structure of the first conversation in the `frames` file. Each line represents a message sent between the user and the wizard, shown by column `author`. `text` is the message itself, `labels` contains all of the arguments, acts and intents, including the previous frames created throughout the conversation."
   ]
  },
  {
   "cell_type": "markdown",
   "id": "c71e5c25",
   "metadata": {},
   "source": [
    "#### What are the unique intents recorded in the file? What is the distribution of intents?"
   ]
  },
  {
   "cell_type": "markdown",
   "id": "e30f6f3e",
   "metadata": {},
   "source": [
    "We can see the intent for each message sent by any user, we will look at every turn. These can be found as follows:"
   ]
  },
  {
   "cell_type": "code",
   "execution_count": 11,
   "id": "c528ddf2",
   "metadata": {},
   "outputs": [
    {
     "data": {
      "text/plain": [
       "[{'val': 'book', 'negated': False}]"
      ]
     },
     "execution_count": 11,
     "metadata": {},
     "output_type": "execute_result"
    }
   ],
   "source": [
    "df.turns[116][4][\"labels\"][\"frames\"][0][\"info\"][\"intent\"]"
   ]
  },
  {
   "cell_type": "markdown",
   "id": "60062a31",
   "metadata": {},
   "source": [
    "And we can find a list of unique instances, and plot these (one intent per frame):"
   ]
  },
  {
   "cell_type": "code",
   "execution_count": 12,
   "id": "eab7880c",
   "metadata": {},
   "outputs": [],
   "source": [
    "intent_list = [] \n",
    "\n",
    "for dialogue in df.turns:\n",
    "    # Iterate over all conversations\n",
    "    # Find last turn, and access list of frames\n",
    "    frames = dialogue[-1][\"labels\"][\"frames\"]\n",
    "    for frame in frames:\n",
    "        # iterate over every frame created in the conv\n",
    "        info = frame[\"info\"]\n",
    "        if \"intent\" in info:\n",
    "            intent_list.append(info[\"intent\"][0])"
   ]
  },
  {
   "cell_type": "code",
   "execution_count": 13,
   "id": "87c075a7",
   "metadata": {},
   "outputs": [
    {
     "data": {
      "text/plain": [
       "[dict_values([{'val': 'book', 'negated': False}, {'val': 'book', 'negated': True}])]"
      ]
     },
     "execution_count": 13,
     "metadata": {},
     "output_type": "execute_result"
    }
   ],
   "source": [
    "[{x[\"negated\"]:x for x in intent_list}.values()]"
   ]
  },
  {
   "cell_type": "markdown",
   "id": "22f6e5f3",
   "metadata": {},
   "source": [
    "The unique intents are shown above, where all intents are related to \"book\", and are either negated or not.\n",
    "\n",
    "The intents are binomially distributed, as they can only be book, or not book."
   ]
  },
  {
   "cell_type": "code",
   "execution_count": 14,
   "id": "de73c2f6",
   "metadata": {},
   "outputs": [],
   "source": [
    "# Make the intent_list plottable\n",
    "intent_plt = []\n",
    "\n",
    "for intent in intent_list:\n",
    "    intent_plt.append(int(intent[\"negated\"]))"
   ]
  },
  {
   "cell_type": "code",
   "execution_count": 15,
   "id": "0a9ea1f1",
   "metadata": {},
   "outputs": [
    {
     "data": {
      "image/png": "[encoded data removed]",
      "text/plain": [
       "<Figure size 432x288 with 1 Axes>"
      ]
     },
     "metadata": {
      "needs_background": "light"
     },
     "output_type": "display_data"
    }
   ],
   "source": [
    "fig, ax = plt.subplots()\n",
    "\n",
    "ax.hist(intent_plt, log=True, bins=2)\n",
    "ax.set_xticks([0, 1])\n",
    "ax.set_xticklabels([\"Make a booking\", \"Don't make a booking\"])\n",
    "ax.set_title(\"Binomial histogram of intents\")\n",
    "plt.show()"
   ]
  },
  {
   "cell_type": "markdown",
   "id": "a63e2772",
   "metadata": {},
   "source": [
    "Above is a histogram representing the binomial distribution of the intents of every act in the corpus.\n",
    "\n",
    "We can also plot the Dialogue Act Frequency to give us a more interesting plot than the above one. There is one or more dialogue acts per turn."
   ]
  },
  {
   "cell_type": "code",
   "execution_count": 16,
   "id": "532216dd",
   "metadata": {},
   "outputs": [
    {
     "data": {
      "text/plain": [
       "dict_keys(['args', 'name'])"
      ]
     },
     "execution_count": 16,
     "metadata": {},
     "output_type": "execute_result"
    }
   ],
   "source": [
    "# Find all acts\n",
    "df.turns[0][3][\"labels\"][\"acts\"][0].keys()"
   ]
  },
  {
   "cell_type": "code",
   "execution_count": 17,
   "id": "e8748db1",
   "metadata": {},
   "outputs": [],
   "source": [
    "act_list = [] \n",
    "\n",
    "for dialogue in df.turns:\n",
    "    # Iterate over all conversations\n",
    "    for turn in dialogue:\n",
    "        # Iterate over every turn\n",
    "        acts = turn[\"labels\"][\"acts\"]\n",
    "        for act in acts:\n",
    "            # Iterate over every act\n",
    "            if \"name\" in act:\n",
    "                act_list.append(act[\"name\"])"
   ]
  },
  {
   "cell_type": "code",
   "execution_count": 18,
   "id": "aafe0657",
   "metadata": {},
   "outputs": [],
   "source": [
    "act_counts = pd.DataFrame(act_list).value_counts()\n",
    "act_counts.index = [x[0] for x in act_counts.index]"
   ]
  },
  {
   "cell_type": "code",
   "execution_count": 19,
   "id": "3b0697d8",
   "metadata": {},
   "outputs": [
    {
     "data": {
      "image/png": "[encoded data removed]",
      "text/plain": [
       "<Figure size 432x288 with 1 Axes>"
      ]
     },
     "metadata": {
      "needs_background": "light"
     },
     "output_type": "display_data"
    }
   ],
   "source": [
    "fig, ax = plt.subplots()\n",
    "\n",
    "nbins = len(set(act_list))\n",
    "\n",
    "ax = act_counts.plot(kind=\"barh\")\n",
    "ax.set_title(\"Dialogue Act Freq.\")\n",
    "ax.set_ylabel(\"Dialogue Act\")\n",
    "ax.xaxis.grid(True)\n",
    "\n",
    "plt.show()"
   ]
  },
  {
   "cell_type": "markdown",
   "id": "b1933972",
   "metadata": {},
   "source": [
    "#### Find queries of each difficulty in the corpus"
   ]
  },
  {
   "cell_type": "markdown",
   "id": "0b7f145a",
   "metadata": {},
   "source": [
    "Low difficulty queries include a known destination, inflexible time period, budget and amount of people. \n",
    "\n",
    "Medium difficulty queries have one flexible parameter, and may need the number of travelers clarified.\n",
    "\n",
    "Hard difficulty has even more flexibility, and user requests comparison of packages.\n",
    "\n",
    "We will only check the first utterance of each dialogue, which corresponds to the first frame."
   ]
  },
  {
   "cell_type": "code",
   "execution_count": 20,
   "id": "561736d0",
   "metadata": {
    "scrolled": true
   },
   "outputs": [
    {
     "name": "stdout",
     "output_type": "stream",
     "text": [
      "no. :  1369\n",
      "easy:  3\n",
      "med :  14\n",
      "hard:  1352\n"
     ]
    }
   ],
   "source": [
    "count = 0\n",
    "easy  = 0\n",
    "med   = 0\n",
    "hard  = 0\n",
    "\n",
    "easy_ix = []\n",
    "\n",
    "def flex_count(frame_info, keys):\n",
    "    \n",
    "    flex = 0\n",
    "    if \"budget\" not in keys or frame_info[\"budget\"][0][\"val\"] == -1:\n",
    "        flex += 1\n",
    "    if \"or_city\" not in keys or frame_info[\"or_city\"][0] == -1:\n",
    "        flex += 1\n",
    "    if \"dst_city\" not in keys or frame_info[\"dst_city\"][0] == -1:\n",
    "        flex += 1\n",
    "    if \"str_date\" not in keys or frame_info[\"str_date\"][0] == -1:\n",
    "        flex += 1\n",
    "    if \"end_date\" not in keys or frame_info[\"end_date\"][0] == -1:\n",
    "        flex += 1\n",
    "    if \"n_adults\" not in keys or frame_info[\"n_adults\"][0][\"val\"] == -1:\n",
    "        flex += 1\n",
    "    if \"n_children\" not in keys or frame_info[\"n_children\"][0][\"val\"] == -1:\n",
    "        flex += 1\n",
    "        \n",
    "    return flex\n",
    "\n",
    "def check_easy(frame_info):\n",
    "    keys = frame_info.keys()\n",
    "    \n",
    "    # Must have no flexibility\n",
    "    if flex_count(frame_info, keys) != 0:\n",
    "        return False\n",
    "    \n",
    "    return True\n",
    "\n",
    "def check_med(frame_info):\n",
    "    keys = frame_info.keys()\n",
    "    \n",
    "    # Only need one flexible thing\n",
    "    if flex_count(frame_info, keys) == 1:\n",
    "        return True\n",
    "    \n",
    "    return False\n",
    "    \n",
    "def check_hard(frame_info):\n",
    "    keys = frame_info.keys()\n",
    "    \n",
    "    # Need more than one flexible thing\n",
    "    if flex_count(frame_info, keys) >= 2:\n",
    "        return True\n",
    "    \n",
    "    return False\n",
    "\n",
    "for (i, dialogue) in enumerate(df.turns):\n",
    "    frame = dialogue[0][\"labels\"][\"frames\"][0]\n",
    "    frame_info = frame[\"info\"]\n",
    "\n",
    "    count += 1\n",
    "    \n",
    "    if check_easy(frame_info):\n",
    "        easy += 1\n",
    "        easy_ix.append(i)\n",
    "        continue\n",
    "    if check_med(frame_info):\n",
    "        med += 1\n",
    "        continue\n",
    "    if check_hard(frame_info) or frame[\"compare_requests\"] != []:\n",
    "        hard += 1\n",
    "        continue\n",
    "\n",
    "print(\"no. : \", count)\n",
    "print(\"easy: \", easy)\n",
    "print(\"med : \", med)\n",
    "print(\"hard: \", hard)\n",
    "        "
   ]
  },
  {
   "cell_type": "markdown",
   "id": "f9bb7e99",
   "metadata": {},
   "source": [
    "#### Vocabulary and Word Frequency"
   ]
  },
  {
   "cell_type": "markdown",
   "id": "3fe8b064",
   "metadata": {},
   "source": [
    "We will find a list of all words, only including alphanumeric values (no punctuation), and no stop words.\n",
    "\n",
    "The reason I am removing the punctuation and stop words is becasue the vocabularies will have a lot of almost meaningless symbols, and the word frequency will just have extremely common stopwords such as \"the\" and \"a\", etc. I though this might not be as informative it could be."
   ]
  },
  {
   "cell_type": "code",
   "execution_count": 21,
   "id": "73282541",
   "metadata": {},
   "outputs": [
    {
     "ename": "LookupError",
     "evalue": "\n**********************************************************************\n  Resource \u001b[93mstopwords\u001b[0m not found.\n  Please use the NLTK Downloader to obtain the resource:\n\n  \u001b[31m>>> import nltk\n  >>> nltk.download('stopwords')\n  \u001b[0m\n  For more information see: https://www.nltk.org/data.html\n\n  Attempted to load \u001b[93mcorpora/stopwords\u001b[0m\n\n  Searched in:\n    - '/home/kaiba/nltk_data'\n    - '/usr/nltk_data'\n    - '/usr/share/nltk_data'\n    - '/usr/lib/nltk_data'\n    - '/usr/share/nltk_data'\n    - '/usr/local/share/nltk_data'\n    - '/usr/lib/nltk_data'\n    - '/usr/local/lib/nltk_data'\n**********************************************************************\n",
     "output_type": "error",
     "traceback": [
      "\u001b[0;31m---------------------------------------------------------------------------\u001b[0m",
      "\u001b[0;31mLookupError\u001b[0m                               Traceback (most recent call last)",
      "File \u001b[0;32m~/.local/lib/python3.8/site-packages/nltk/corpus/util.py:84\u001b[0m, in \u001b[0;36mLazyCorpusLoader.__load\u001b[0;34m(self)\u001b[0m\n\u001b[1;32m     83\u001b[0m \u001b[38;5;28;01mtry\u001b[39;00m:\n\u001b[0;32m---> 84\u001b[0m     root \u001b[38;5;241m=\u001b[39m \u001b[43mnltk\u001b[49m\u001b[38;5;241;43m.\u001b[39;49m\u001b[43mdata\u001b[49m\u001b[38;5;241;43m.\u001b[39;49m\u001b[43mfind\u001b[49m\u001b[43m(\u001b[49m\u001b[38;5;124;43mf\u001b[39;49m\u001b[38;5;124;43m\"\u001b[39;49m\u001b[38;5;132;43;01m{\u001b[39;49;00m\u001b[38;5;28;43mself\u001b[39;49m\u001b[38;5;241;43m.\u001b[39;49m\u001b[43msubdir\u001b[49m\u001b[38;5;132;43;01m}\u001b[39;49;00m\u001b[38;5;124;43m/\u001b[39;49m\u001b[38;5;132;43;01m{\u001b[39;49;00m\u001b[43mzip_name\u001b[49m\u001b[38;5;132;43;01m}\u001b[39;49;00m\u001b[38;5;124;43m\"\u001b[39;49m\u001b[43m)\u001b[49m\n\u001b[1;32m     85\u001b[0m \u001b[38;5;28;01mexcept\u001b[39;00m \u001b[38;5;167;01mLookupError\u001b[39;00m:\n",
      "File \u001b[0;32m~/.local/lib/python3.8/site-packages/nltk/data.py:583\u001b[0m, in \u001b[0;36mfind\u001b[0;34m(resource_name, paths)\u001b[0m\n\u001b[1;32m    582\u001b[0m resource_not_found \u001b[38;5;241m=\u001b[39m \u001b[38;5;124mf\u001b[39m\u001b[38;5;124m\"\u001b[39m\u001b[38;5;130;01m\\n\u001b[39;00m\u001b[38;5;132;01m{\u001b[39;00msep\u001b[38;5;132;01m}\u001b[39;00m\u001b[38;5;130;01m\\n\u001b[39;00m\u001b[38;5;132;01m{\u001b[39;00mmsg\u001b[38;5;132;01m}\u001b[39;00m\u001b[38;5;130;01m\\n\u001b[39;00m\u001b[38;5;132;01m{\u001b[39;00msep\u001b[38;5;132;01m}\u001b[39;00m\u001b[38;5;130;01m\\n\u001b[39;00m\u001b[38;5;124m\"\u001b[39m\n\u001b[0;32m--> 583\u001b[0m \u001b[38;5;28;01mraise\u001b[39;00m \u001b[38;5;167;01mLookupError\u001b[39;00m(resource_not_found)\n",
      "\u001b[0;31mLookupError\u001b[0m: \n**********************************************************************\n  Resource \u001b[93mstopwords\u001b[0m not found.\n  Please use the NLTK Downloader to obtain the resource:\n\n  \u001b[31m>>> import nltk\n  >>> nltk.download('stopwords')\n  \u001b[0m\n  For more information see: https://www.nltk.org/data.html\n\n  Attempted to load \u001b[93mcorpora/stopwords.zip/stopwords/\u001b[0m\n\n  Searched in:\n    - '/home/kaiba/nltk_data'\n    - '/usr/nltk_data'\n    - '/usr/share/nltk_data'\n    - '/usr/lib/nltk_data'\n    - '/usr/share/nltk_data'\n    - '/usr/local/share/nltk_data'\n    - '/usr/lib/nltk_data'\n    - '/usr/local/lib/nltk_data'\n**********************************************************************\n",
      "\nDuring handling of the above exception, another exception occurred:\n",
      "\u001b[0;31mLookupError\u001b[0m                               Traceback (most recent call last)",
      "Input \u001b[0;32mIn [21]\u001b[0m, in \u001b[0;36m<cell line: 6>\u001b[0;34m()\u001b[0m\n\u001b[1;32m      1\u001b[0m \u001b[38;5;66;03m# This method isn't too slow, but seems just as fast as \u001b[39;00m\n\u001b[1;32m      2\u001b[0m \u001b[38;5;66;03m# using pandas applymap and stuff\u001b[39;00m\n\u001b[1;32m      3\u001b[0m \n\u001b[1;32m      4\u001b[0m \u001b[38;5;66;03m# And since there isn't quite too many words, I'll just \u001b[39;00m\n\u001b[1;32m      5\u001b[0m \u001b[38;5;66;03m# make a huge list of them all\u001b[39;00m\n\u001b[0;32m----> 6\u001b[0m stopwords \u001b[38;5;241m=\u001b[39m \u001b[38;5;28mset\u001b[39m(\u001b[43mnltk\u001b[49m\u001b[38;5;241;43m.\u001b[39;49m\u001b[43mcorpus\u001b[49m\u001b[38;5;241;43m.\u001b[39;49m\u001b[43mstopwords\u001b[49m\u001b[38;5;241;43m.\u001b[39;49m\u001b[43mwords\u001b[49m(\u001b[38;5;124m\"\u001b[39m\u001b[38;5;124menglish\u001b[39m\u001b[38;5;124m\"\u001b[39m))\n\u001b[1;32m      7\u001b[0m user_text \u001b[38;5;241m=\u001b[39m []\n\u001b[1;32m      8\u001b[0m wiz_text  \u001b[38;5;241m=\u001b[39m []\n",
      "File \u001b[0;32m~/.local/lib/python3.8/site-packages/nltk/corpus/util.py:121\u001b[0m, in \u001b[0;36mLazyCorpusLoader.__getattr__\u001b[0;34m(self, attr)\u001b[0m\n\u001b[1;32m    118\u001b[0m \u001b[38;5;28;01mif\u001b[39;00m attr \u001b[38;5;241m==\u001b[39m \u001b[38;5;124m\"\u001b[39m\u001b[38;5;124m__bases__\u001b[39m\u001b[38;5;124m\"\u001b[39m:\n\u001b[1;32m    119\u001b[0m     \u001b[38;5;28;01mraise\u001b[39;00m \u001b[38;5;167;01mAttributeError\u001b[39;00m(\u001b[38;5;124m\"\u001b[39m\u001b[38;5;124mLazyCorpusLoader object has no attribute \u001b[39m\u001b[38;5;124m'\u001b[39m\u001b[38;5;124m__bases__\u001b[39m\u001b[38;5;124m'\u001b[39m\u001b[38;5;124m\"\u001b[39m)\n\u001b[0;32m--> 121\u001b[0m \u001b[38;5;28;43mself\u001b[39;49m\u001b[38;5;241;43m.\u001b[39;49m\u001b[43m__load\u001b[49m\u001b[43m(\u001b[49m\u001b[43m)\u001b[49m\n\u001b[1;32m    122\u001b[0m \u001b[38;5;66;03m# This looks circular, but its not, since __load() changes our\u001b[39;00m\n\u001b[1;32m    123\u001b[0m \u001b[38;5;66;03m# __class__ to something new:\u001b[39;00m\n\u001b[1;32m    124\u001b[0m \u001b[38;5;28;01mreturn\u001b[39;00m \u001b[38;5;28mgetattr\u001b[39m(\u001b[38;5;28mself\u001b[39m, attr)\n",
      "File \u001b[0;32m~/.local/lib/python3.8/site-packages/nltk/corpus/util.py:86\u001b[0m, in \u001b[0;36mLazyCorpusLoader.__load\u001b[0;34m(self)\u001b[0m\n\u001b[1;32m     84\u001b[0m             root \u001b[38;5;241m=\u001b[39m nltk\u001b[38;5;241m.\u001b[39mdata\u001b[38;5;241m.\u001b[39mfind(\u001b[38;5;124mf\u001b[39m\u001b[38;5;124m\"\u001b[39m\u001b[38;5;132;01m{\u001b[39;00m\u001b[38;5;28mself\u001b[39m\u001b[38;5;241m.\u001b[39msubdir\u001b[38;5;132;01m}\u001b[39;00m\u001b[38;5;124m/\u001b[39m\u001b[38;5;132;01m{\u001b[39;00mzip_name\u001b[38;5;132;01m}\u001b[39;00m\u001b[38;5;124m\"\u001b[39m)\n\u001b[1;32m     85\u001b[0m         \u001b[38;5;28;01mexcept\u001b[39;00m \u001b[38;5;167;01mLookupError\u001b[39;00m:\n\u001b[0;32m---> 86\u001b[0m             \u001b[38;5;28;01mraise\u001b[39;00m e\n\u001b[1;32m     88\u001b[0m \u001b[38;5;66;03m# Load the corpus.\u001b[39;00m\n\u001b[1;32m     89\u001b[0m corpus \u001b[38;5;241m=\u001b[39m \u001b[38;5;28mself\u001b[39m\u001b[38;5;241m.\u001b[39m__reader_cls(root, \u001b[38;5;241m*\u001b[39m\u001b[38;5;28mself\u001b[39m\u001b[38;5;241m.\u001b[39m__args, \u001b[38;5;241m*\u001b[39m\u001b[38;5;241m*\u001b[39m\u001b[38;5;28mself\u001b[39m\u001b[38;5;241m.\u001b[39m__kwargs)\n",
      "File \u001b[0;32m~/.local/lib/python3.8/site-packages/nltk/corpus/util.py:81\u001b[0m, in \u001b[0;36mLazyCorpusLoader.__load\u001b[0;34m(self)\u001b[0m\n\u001b[1;32m     79\u001b[0m \u001b[38;5;28;01melse\u001b[39;00m:\n\u001b[1;32m     80\u001b[0m     \u001b[38;5;28;01mtry\u001b[39;00m:\n\u001b[0;32m---> 81\u001b[0m         root \u001b[38;5;241m=\u001b[39m \u001b[43mnltk\u001b[49m\u001b[38;5;241;43m.\u001b[39;49m\u001b[43mdata\u001b[49m\u001b[38;5;241;43m.\u001b[39;49m\u001b[43mfind\u001b[49m\u001b[43m(\u001b[49m\u001b[38;5;124;43mf\u001b[39;49m\u001b[38;5;124;43m\"\u001b[39;49m\u001b[38;5;132;43;01m{\u001b[39;49;00m\u001b[38;5;28;43mself\u001b[39;49m\u001b[38;5;241;43m.\u001b[39;49m\u001b[43msubdir\u001b[49m\u001b[38;5;132;43;01m}\u001b[39;49;00m\u001b[38;5;124;43m/\u001b[39;49m\u001b[38;5;132;43;01m{\u001b[39;49;00m\u001b[38;5;28;43mself\u001b[39;49m\u001b[38;5;241;43m.\u001b[39;49m\u001b[43m__name\u001b[49m\u001b[38;5;132;43;01m}\u001b[39;49;00m\u001b[38;5;124;43m\"\u001b[39;49m\u001b[43m)\u001b[49m\n\u001b[1;32m     82\u001b[0m     \u001b[38;5;28;01mexcept\u001b[39;00m \u001b[38;5;167;01mLookupError\u001b[39;00m \u001b[38;5;28;01mas\u001b[39;00m e:\n\u001b[1;32m     83\u001b[0m         \u001b[38;5;28;01mtry\u001b[39;00m:\n",
      "File \u001b[0;32m~/.local/lib/python3.8/site-packages/nltk/data.py:583\u001b[0m, in \u001b[0;36mfind\u001b[0;34m(resource_name, paths)\u001b[0m\n\u001b[1;32m    581\u001b[0m sep \u001b[38;5;241m=\u001b[39m \u001b[38;5;124m\"\u001b[39m\u001b[38;5;124m*\u001b[39m\u001b[38;5;124m\"\u001b[39m \u001b[38;5;241m*\u001b[39m \u001b[38;5;241m70\u001b[39m\n\u001b[1;32m    582\u001b[0m resource_not_found \u001b[38;5;241m=\u001b[39m \u001b[38;5;124mf\u001b[39m\u001b[38;5;124m\"\u001b[39m\u001b[38;5;130;01m\\n\u001b[39;00m\u001b[38;5;132;01m{\u001b[39;00msep\u001b[38;5;132;01m}\u001b[39;00m\u001b[38;5;130;01m\\n\u001b[39;00m\u001b[38;5;132;01m{\u001b[39;00mmsg\u001b[38;5;132;01m}\u001b[39;00m\u001b[38;5;130;01m\\n\u001b[39;00m\u001b[38;5;132;01m{\u001b[39;00msep\u001b[38;5;132;01m}\u001b[39;00m\u001b[38;5;130;01m\\n\u001b[39;00m\u001b[38;5;124m\"\u001b[39m\n\u001b[0;32m--> 583\u001b[0m \u001b[38;5;28;01mraise\u001b[39;00m \u001b[38;5;167;01mLookupError\u001b[39;00m(resource_not_found)\n",
      "\u001b[0;31mLookupError\u001b[0m: \n**********************************************************************\n  Resource \u001b[93mstopwords\u001b[0m not found.\n  Please use the NLTK Downloader to obtain the resource:\n\n  \u001b[31m>>> import nltk\n  >>> nltk.download('stopwords')\n  \u001b[0m\n  For more information see: https://www.nltk.org/data.html\n\n  Attempted to load \u001b[93mcorpora/stopwords\u001b[0m\n\n  Searched in:\n    - '/home/kaiba/nltk_data'\n    - '/usr/nltk_data'\n    - '/usr/share/nltk_data'\n    - '/usr/lib/nltk_data'\n    - '/usr/share/nltk_data'\n    - '/usr/local/share/nltk_data'\n    - '/usr/lib/nltk_data'\n    - '/usr/local/lib/nltk_data'\n**********************************************************************\n"
     ]
    }
   ],
   "source": [
    "# This method isn't too slow, but seems just as fast as \n",
    "# using pandas applymap and stuff\n",
    "\n",
    "# And since there isn't quite too many words, I'll just \n",
    "# make a huge list of them all\n",
    "stopwords = set(nltk.corpus.stopwords.words(\"english\"))\n",
    "user_text = []\n",
    "wiz_text  = []\n",
    "\n",
    "for dialogue in df.turns:\n",
    "    for (i, turn) in enumerate(dialogue):\n",
    "        tokens = word_tokenize(turn[\"text\"])\n",
    "        # Set to lowercase\n",
    "        tokens = [token.lower() for token in tokens if token.isalnum()]\n",
    "        # Remove stopwords\n",
    "        tokens = [token for token in tokens if not token in stopwords]\n",
    "        if i%2 == 0:\n",
    "            # dialogue alternates between user and wiz,\n",
    "            # starting with user\n",
    "            user_text += tokens\n",
    "            continue\n",
    "        wiz_text += tokens"
   ]
  },
  {
   "cell_type": "code",
   "execution_count": null,
   "id": "ce1bf75c",
   "metadata": {},
   "outputs": [],
   "source": [
    "print(\"User vocab: \", len(set(user_text)))\n",
    "print(\"Wizard vocab: \", len(set(wiz_text)))"
   ]
  },
  {
   "cell_type": "markdown",
   "id": "7e9e00e9",
   "metadata": {},
   "source": [
    "Vocabularies consist of 3797 unique words for the users, and 2229 unique words for the wizards.\n",
    "\n",
    "Now we can find the frequency distributions, without any punctuation or stopwords."
   ]
  },
  {
   "cell_type": "code",
   "execution_count": 22,
   "id": "b35f823f",
   "metadata": {},
   "outputs": [
    {
     "ename": "NameError",
     "evalue": "name 'user_text' is not defined",
     "output_type": "error",
     "traceback": [
      "\u001b[0;31m---------------------------------------------------------------------------\u001b[0m",
      "\u001b[0;31mNameError\u001b[0m                                 Traceback (most recent call last)",
      "Input \u001b[0;32mIn [22]\u001b[0m, in \u001b[0;36m<cell line: 1>\u001b[0;34m()\u001b[0m\n\u001b[0;32m----> 1\u001b[0m userfd_mc \u001b[38;5;241m=\u001b[39m nltk\u001b[38;5;241m.\u001b[39mFreqDist(\u001b[43muser_text\u001b[49m)\u001b[38;5;241m.\u001b[39mmost_common(\u001b[38;5;241m10\u001b[39m)\n\u001b[1;32m      2\u001b[0m wizfd_mc  \u001b[38;5;241m=\u001b[39m nltk\u001b[38;5;241m.\u001b[39mFreqDist(wiz_text)\u001b[38;5;241m.\u001b[39mmost_common(\u001b[38;5;241m10\u001b[39m)\n",
      "\u001b[0;31mNameError\u001b[0m: name 'user_text' is not defined"
     ]
    }
   ],
   "source": [
    "userfd_mc = nltk.FreqDist(user_text).most_common(10)\n",
    "wizfd_mc  = nltk.FreqDist(wiz_text).most_common(10)"
   ]
  },
  {
   "cell_type": "markdown",
   "id": "1481ca87",
   "metadata": {},
   "source": [
    "We will plot the 10 most common words in the whole corpus"
   ]
  },
  {
   "cell_type": "code",
   "execution_count": 23,
   "id": "6844d69a",
   "metadata": {},
   "outputs": [
    {
     "ename": "NameError",
     "evalue": "name 'userfd_mc' is not defined",
     "output_type": "error",
     "traceback": [
      "\u001b[0;31m---------------------------------------------------------------------------\u001b[0m",
      "\u001b[0;31mNameError\u001b[0m                                 Traceback (most recent call last)",
      "Input \u001b[0;32mIn [23]\u001b[0m, in \u001b[0;36m<cell line: 5>\u001b[0;34m()\u001b[0m\n\u001b[1;32m      1\u001b[0m fig, axs \u001b[38;5;241m=\u001b[39m plt\u001b[38;5;241m.\u001b[39msubplots(\u001b[38;5;241m1\u001b[39m, \u001b[38;5;241m2\u001b[39m, figsize\u001b[38;5;241m=\u001b[39m(\u001b[38;5;241m9\u001b[39m, \u001b[38;5;241m4\u001b[39m))\n\u001b[1;32m      3\u001b[0m y_pos \u001b[38;5;241m=\u001b[39m np\u001b[38;5;241m.\u001b[39marange(\u001b[38;5;241m10\u001b[39m)\n\u001b[0;32m----> 5\u001b[0m axs[\u001b[38;5;241m0\u001b[39m]\u001b[38;5;241m.\u001b[39mbarh(y_pos, [x[\u001b[38;5;241m1\u001b[39m] \u001b[38;5;28;01mfor\u001b[39;00m x \u001b[38;5;129;01min\u001b[39;00m \u001b[43muserfd_mc\u001b[49m], align\u001b[38;5;241m=\u001b[39m\u001b[38;5;124m\"\u001b[39m\u001b[38;5;124mcenter\u001b[39m\u001b[38;5;124m\"\u001b[39m)\n\u001b[1;32m      6\u001b[0m axs[\u001b[38;5;241m0\u001b[39m]\u001b[38;5;241m.\u001b[39mset_yticks(y_pos)\n\u001b[1;32m      7\u001b[0m axs[\u001b[38;5;241m0\u001b[39m]\u001b[38;5;241m.\u001b[39mset_yticklabels([x[\u001b[38;5;241m0\u001b[39m] \u001b[38;5;28;01mfor\u001b[39;00m x \u001b[38;5;129;01min\u001b[39;00m userfd_mc])\n",
      "\u001b[0;31mNameError\u001b[0m: name 'userfd_mc' is not defined"
     ]
    },
    {
     "data": {
      "image/png": "[encoded data removed]",
      "text/plain": [
       "<Figure size 648x288 with 2 Axes>"
      ]
     },
     "metadata": {
      "needs_background": "light"
     },
     "output_type": "display_data"
    }
   ],
   "source": [
    "fig, axs = plt.subplots(1, 2, figsize=(9, 4))\n",
    "\n",
    "y_pos = np.arange(10)\n",
    "\n",
    "axs[0].barh(y_pos, [x[1] for x in userfd_mc], align=\"center\")\n",
    "axs[0].set_yticks(y_pos)\n",
    "axs[0].set_yticklabels([x[0] for x in userfd_mc])\n",
    "axs[0].set_xlabel(\"Word Count\")\n",
    "axs[0].set_title(\"For Users\")\n",
    "\n",
    "axs[1].barh(y_pos, [x[1] for x in wizfd_mc], align=\"center\")\n",
    "axs[1].set_yticks(y_pos)\n",
    "axs[1].set_yticklabels([x[0] for x in wizfd_mc])\n",
    "axs[1].set_xlabel(\"Word Count\")\n",
    "axs[1].set_title(\"For Wizards\")\n",
    "\n",
    "fig.tight_layout(pad=3)\n",
    "fig.suptitle(\"Freq. Dist. for 10 Most Common Words:\")\n",
    "\n",
    "plt.show()"
   ]
  },
  {
   "cell_type": "markdown",
   "id": "bf381f79",
   "metadata": {},
   "source": [
    "### Data Preprocessing"
   ]
  },
  {
   "cell_type": "markdown",
   "id": "3a8d273e",
   "metadata": {},
   "source": [
    "Consider the following pre-processing steps, and report vocabulary size for users and wizards, respectively, after each step:\n",
    "\n",
    "* Tokenize\n",
    "* Lemmatize and compare with stemming\n",
    "* Retokenize frequent noun phrases\n",
    "* Remove stop words (rank words according TF/IDF)\n",
    "\n",
    "We will start from scratch in this section, ignoring whatever manipulation I've done in the section before this one."
   ]
  },
  {
   "cell_type": "markdown",
   "id": "443acb39",
   "metadata": {},
   "source": [
    "#### Tokenize"
   ]
  },
  {
   "cell_type": "markdown",
   "id": "57bfe0ca",
   "metadata": {},
   "source": [
    "First, I will create two lists, one for user turnn and one for wizard turns. These lists will have one element for each dialogue in the dataset, and each element in the lists will be the concatenated texts authored by the user OR the wizard.\n",
    "\n",
    "So we will have a user corpus, and a wizard corpus, where each doc in the corpora will be a turn written by the respective author."
   ]
  },
  {
   "cell_type": "code",
   "execution_count": 24,
   "id": "dd1f7460",
   "metadata": {},
   "outputs": [],
   "source": [
    "user_text = []\n",
    "wizd_text = []\n",
    "\n",
    "for dialogue in df.turns:\n",
    "    for (i, turn) in enumerate(dialogue):\n",
    "        text = turn[\"text\"].lower()\n",
    "        if i%2 == 0:\n",
    "            # dialogue alternates between user and wiz,\n",
    "            # starting with user\n",
    "            user_text.append(text)\n",
    "            continue\n",
    "        wizd_text.append(text)"
   ]
  },
  {
   "cell_type": "markdown",
   "id": "a708b4ed",
   "metadata": {},
   "source": [
    "We will keep all pipes active in the `nlp` object, as we will need them done later, and we can still access the output at each step."
   ]
  },
  {
   "cell_type": "code",
   "execution_count": 25,
   "id": "6573435e",
   "metadata": {},
   "outputs": [
    {
     "ename": "OSError",
     "evalue": "[E050] Can't find model 'en_core_web_sm'. It doesn't seem to be a Python package or a valid path to a data directory.",
     "output_type": "error",
     "traceback": [
      "\u001b[0;31m---------------------------------------------------------------------------\u001b[0m",
      "\u001b[0;31mOSError\u001b[0m                                   Traceback (most recent call last)",
      "Input \u001b[0;32mIn [25]\u001b[0m, in \u001b[0;36m<cell line: 1>\u001b[0;34m()\u001b[0m\n\u001b[0;32m----> 1\u001b[0m nlp \u001b[38;5;241m=\u001b[39m \u001b[43mspacy\u001b[49m\u001b[38;5;241;43m.\u001b[39;49m\u001b[43mload\u001b[49m\u001b[43m(\u001b[49m\u001b[38;5;124;43m\"\u001b[39;49m\u001b[38;5;124;43men_core_web_sm\u001b[39;49m\u001b[38;5;124;43m\"\u001b[39;49m\u001b[43m)\u001b[49m\n",
      "File \u001b[0;32m~/.local/lib/python3.8/site-packages/spacy/__init__.py:51\u001b[0m, in \u001b[0;36mload\u001b[0;34m(name, vocab, disable, exclude, config)\u001b[0m\n\u001b[1;32m     30\u001b[0m \u001b[38;5;28;01mdef\u001b[39;00m \u001b[38;5;21mload\u001b[39m(\n\u001b[1;32m     31\u001b[0m     name: Union[\u001b[38;5;28mstr\u001b[39m, Path],\n\u001b[1;32m     32\u001b[0m     \u001b[38;5;241m*\u001b[39m,\n\u001b[0;32m   (...)\u001b[0m\n\u001b[1;32m     36\u001b[0m     config: Union[Dict[\u001b[38;5;28mstr\u001b[39m, Any], Config] \u001b[38;5;241m=\u001b[39m util\u001b[38;5;241m.\u001b[39mSimpleFrozenDict(),\n\u001b[1;32m     37\u001b[0m ) \u001b[38;5;241m-\u001b[39m\u001b[38;5;241m>\u001b[39m Language:\n\u001b[1;32m     38\u001b[0m     \u001b[38;5;124;03m\"\"\"Load a spaCy model from an installed package or a local path.\u001b[39;00m\n\u001b[1;32m     39\u001b[0m \n\u001b[1;32m     40\u001b[0m \u001b[38;5;124;03m    name (str): Package name or model path.\u001b[39;00m\n\u001b[0;32m   (...)\u001b[0m\n\u001b[1;32m     49\u001b[0m \u001b[38;5;124;03m    RETURNS (Language): The loaded nlp object.\u001b[39;00m\n\u001b[1;32m     50\u001b[0m \u001b[38;5;124;03m    \"\"\"\u001b[39;00m\n\u001b[0;32m---> 51\u001b[0m     \u001b[38;5;28;01mreturn\u001b[39;00m \u001b[43mutil\u001b[49m\u001b[38;5;241;43m.\u001b[39;49m\u001b[43mload_model\u001b[49m\u001b[43m(\u001b[49m\n\u001b[1;32m     52\u001b[0m \u001b[43m        \u001b[49m\u001b[43mname\u001b[49m\u001b[43m,\u001b[49m\u001b[43m \u001b[49m\u001b[43mvocab\u001b[49m\u001b[38;5;241;43m=\u001b[39;49m\u001b[43mvocab\u001b[49m\u001b[43m,\u001b[49m\u001b[43m \u001b[49m\u001b[43mdisable\u001b[49m\u001b[38;5;241;43m=\u001b[39;49m\u001b[43mdisable\u001b[49m\u001b[43m,\u001b[49m\u001b[43m \u001b[49m\u001b[43mexclude\u001b[49m\u001b[38;5;241;43m=\u001b[39;49m\u001b[43mexclude\u001b[49m\u001b[43m,\u001b[49m\u001b[43m \u001b[49m\u001b[43mconfig\u001b[49m\u001b[38;5;241;43m=\u001b[39;49m\u001b[43mconfig\u001b[49m\n\u001b[1;32m     53\u001b[0m \u001b[43m    \u001b[49m\u001b[43m)\u001b[49m\n",
      "File \u001b[0;32m~/.local/lib/python3.8/site-packages/spacy/util.py:427\u001b[0m, in \u001b[0;36mload_model\u001b[0;34m(name, vocab, disable, exclude, config)\u001b[0m\n\u001b[1;32m    425\u001b[0m \u001b[38;5;28;01mif\u001b[39;00m name \u001b[38;5;129;01min\u001b[39;00m OLD_MODEL_SHORTCUTS:\n\u001b[1;32m    426\u001b[0m     \u001b[38;5;28;01mraise\u001b[39;00m \u001b[38;5;167;01mIOError\u001b[39;00m(Errors\u001b[38;5;241m.\u001b[39mE941\u001b[38;5;241m.\u001b[39mformat(name\u001b[38;5;241m=\u001b[39mname, full\u001b[38;5;241m=\u001b[39mOLD_MODEL_SHORTCUTS[name]))  \u001b[38;5;66;03m# type: ignore[index]\u001b[39;00m\n\u001b[0;32m--> 427\u001b[0m \u001b[38;5;28;01mraise\u001b[39;00m \u001b[38;5;167;01mIOError\u001b[39;00m(Errors\u001b[38;5;241m.\u001b[39mE050\u001b[38;5;241m.\u001b[39mformat(name\u001b[38;5;241m=\u001b[39mname))\n",
      "\u001b[0;31mOSError\u001b[0m: [E050] Can't find model 'en_core_web_sm'. It doesn't seem to be a Python package or a valid path to a data directory."
     ]
    }
   ],
   "source": [
    "nlp = spacy.load(\"en_core_web_sm\")"
   ]
  },
  {
   "cell_type": "code",
   "execution_count": 23,
   "id": "01eab0b1",
   "metadata": {},
   "outputs": [],
   "source": [
    "user_corpus = list(nlp.pipe(user_text))\n",
    "wizd_corpus = list(nlp.pipe(wizd_text))"
   ]
  },
  {
   "cell_type": "markdown",
   "id": "82b37d07",
   "metadata": {},
   "source": [
    "We can find the vocab after the tokenization pipe in the pipeline below:"
   ]
  },
  {
   "cell_type": "code",
   "execution_count": 24,
   "id": "202ec888",
   "metadata": {},
   "outputs": [
    {
     "name": "stdout",
     "output_type": "stream",
     "text": [
      "User vocab size  :  4155\n",
      "Wizard vocab size:  4742\n"
     ]
    }
   ],
   "source": [
    "def find_vocab_tok(corpus):\n",
    "    vocab = set()\n",
    "    for doc in corpus:\n",
    "        vocab.update({token.text for token in doc})\n",
    "    return vocab\n",
    "    \n",
    "print(\"User vocab size  : \", len(find_vocab_tok(user_corpus)))\n",
    "print(\"Wizard vocab size: \", len(find_vocab_tok(wizd_corpus)))"
   ]
  },
  {
   "cell_type": "markdown",
   "id": "28e72660",
   "metadata": {},
   "source": [
    "#### Lemmatization"
   ]
  },
  {
   "cell_type": "markdown",
   "id": "93d88567",
   "metadata": {},
   "source": [
    "The `nlp` pipeline in the tokenization step handles lemmatization as well, and to see the lemmas we just look at the `lemma_` attribute of each token."
   ]
  },
  {
   "cell_type": "code",
   "execution_count": 25,
   "id": "ca65bb7c",
   "metadata": {},
   "outputs": [
    {
     "name": "stdout",
     "output_type": "stream",
     "text": [
      "User vocab size  :  3613\n",
      "Wizard vocab size:  4406\n"
     ]
    }
   ],
   "source": [
    "def find_vocab_lem(corpus):\n",
    "    vocab = set()\n",
    "    for doc in corpus:\n",
    "        vocab.update({token.lemma_ for token in doc})\n",
    "    return vocab\n",
    "\n",
    "print(\"User vocab size  : \", len(find_vocab_lem(user_corpus)))\n",
    "print(\"Wizard vocab size: \", len(find_vocab_lem(wizd_corpus)))"
   ]
  },
  {
   "cell_type": "markdown",
   "id": "e8eebcaa",
   "metadata": {},
   "source": [
    "Stemming involves reducing a word down to its root form by removing letters, which may not necessarily be a dictionary word. For example:\n",
    "\n",
    "* \"study\" -> \"studi\"\n",
    "* \"studying\" -> \"studi\"\n",
    "* \"studies\" -> \"studi\"\n",
    "\n",
    "Lemmatization means reducing words down to their first form based on context in a sentence, which will be a dictionary word. For example: \n",
    "\n",
    "* \"study\" -> \"study\" \n",
    "* \"studying\" -> \"studying\"\n",
    "* \"studies\" -> \"study\""
   ]
  },
  {
   "cell_type": "markdown",
   "id": "d7e067c7",
   "metadata": {},
   "source": [
    "#### Retokenizing Frequent Noun Phrases"
   ]
  },
  {
   "cell_type": "markdown",
   "id": "68b1cc2a",
   "metadata": {},
   "source": [
    "Will search both user and wizard corpora as one to find frequent noun phrases, since both corpora will be discussing the same topics."
   ]
  },
  {
   "cell_type": "code",
   "execution_count": 26,
   "id": "8ac939e0",
   "metadata": {},
   "outputs": [],
   "source": [
    "# Find noun phrases\n",
    "noun_phrases = []\n",
    "for corpus in [user_corpus, wizd_corpus]:\n",
    "    for doc in corpus:\n",
    "        noun_phrases += [chunk.text for chunk in doc.noun_chunks]"
   ]
  },
  {
   "cell_type": "code",
   "execution_count": 27,
   "id": "6bca4487",
   "metadata": {},
   "outputs": [],
   "source": [
    "np_fd = nltk.FreqDist(noun_phrases)"
   ]
  },
  {
   "cell_type": "markdown",
   "id": "49265c5c",
   "metadata": {},
   "source": [
    "Since we are looking for the frequent noun phrases ones, we will choose the cutoff to be 100, such that the phrase must occur more than 100 times in the entire text data for it to be considered frequent."
   ]
  },
  {
   "cell_type": "code",
   "execution_count": 28,
   "id": "4c243a9a",
   "metadata": {},
   "outputs": [],
   "source": [
    "# Even though it looks bad it doesn't seem slow\n",
    "freq_noun_phrases = [x for x in np_fd if np_fd[x]>100]\n",
    "for corpus in [user_corpus, wizd_corpus]:\n",
    "    for doc in corpus:\n",
    "        with doc.retokenize() as retok:\n",
    "            for chunk in doc.noun_chunks:\n",
    "                if chunk.text in freq_noun_phrases:\n",
    "                    retok.merge(chunk)\n",
    "              "
   ]
  },
  {
   "cell_type": "code",
   "execution_count": 29,
   "id": "db77029e",
   "metadata": {},
   "outputs": [
    {
     "name": "stdout",
     "output_type": "stream",
     "text": [
      "User vocab size  :  4187\n",
      "Wizard vocab size:  4776\n"
     ]
    }
   ],
   "source": [
    "print(\"User vocab size  : \", len(find_vocab_tok(user_corpus)))\n",
    "print(\"Wizard vocab size: \", len(find_vocab_tok(wizd_corpus)))"
   ]
  },
  {
   "cell_type": "markdown",
   "id": "f1293f43",
   "metadata": {},
   "source": [
    "We can see that the vocabulary count has actually gone up, this is because some words like \"trip\", may be counted again as a seperate token such as \"a trip\", since we retokenized. "
   ]
  },
  {
   "cell_type": "markdown",
   "id": "e3eb7d06",
   "metadata": {},
   "source": [
    "#### Remove stop words"
   ]
  },
  {
   "cell_type": "markdown",
   "id": "36843aab",
   "metadata": {},
   "source": [
    "We will use the `nltk` stopwords set, and remove these words from the entire corpus."
   ]
  },
  {
   "cell_type": "code",
   "execution_count": 30,
   "id": "db0a801e",
   "metadata": {},
   "outputs": [],
   "source": [
    "stopwords = set(nltk.corpus.stopwords.words(\"english\"))\n",
    "\n",
    "u_corp_rsw = []\n",
    "w_corp_rsw = []\n",
    "\n",
    "for (i, corpus) in enumerate([user_corpus, wizd_corpus]):\n",
    "    for doc in corpus:\n",
    "        tokens = [token.text for token in doc if token.text not in stopwords]\n",
    "        if i == 0:\n",
    "            u_corp_rsw.append(tokens)\n",
    "        else:\n",
    "            w_corp_rsw.append(tokens)"
   ]
  },
  {
   "cell_type": "code",
   "execution_count": 31,
   "id": "be21c47e",
   "metadata": {},
   "outputs": [
    {
     "name": "stdout",
     "output_type": "stream",
     "text": [
      "User vocab size  :  4062\n",
      "Wizard vocab size:  4664\n"
     ]
    }
   ],
   "source": [
    "def find_vocab_list(corpus):\n",
    "    return set([a for sl in corpus for a in sl])\n",
    "\n",
    "print(\"User vocab size  : \", len(find_vocab_list(u_corp_rsw)))\n",
    "print(\"Wizard vocab size: \", len(find_vocab_list(w_corp_rsw)))"
   ]
  },
  {
   "cell_type": "markdown",
   "id": "5dd203a2",
   "metadata": {},
   "source": [
    "To find the TF-IDF it will be easy to use the class `TfidfVectorizer` from the package `sklearn` as follows: "
   ]
  },
  {
   "cell_type": "code",
   "execution_count": 32,
   "id": "ba86c385",
   "metadata": {},
   "outputs": [],
   "source": [
    "from sklearn.feature_extraction.text import TfidfVectorizer\n",
    "\n",
    "tfidf_vectorizer = TfidfVectorizer(stop_words=\"english\")\n",
    "tfidf = tfidf_vectorizer.fit_transform(user_text)"
   ]
  },
  {
   "cell_type": "code",
   "execution_count": 33,
   "id": "e42e843f",
   "metadata": {},
   "outputs": [],
   "source": [
    "features  = np.array(tfidf_vectorizer.get_feature_names())\n",
    "ix_sorter = np.argsort(tfidf.toarray()).flatten()[::-1]"
   ]
  },
  {
   "cell_type": "code",
   "execution_count": 34,
   "id": "b547bb8b",
   "metadata": {},
   "outputs": [
    {
     "data": {
      "text/plain": [
       "array(['thanks', 'zone', 'exalted', 'exact', 'eww', 'ew', 'evidently',\n",
       "       'everyones', 'everybody', 'evenings'], dtype='<U28')"
      ]
     },
     "execution_count": 34,
     "metadata": {},
     "output_type": "execute_result"
    }
   ],
   "source": [
    "features[ix_sorter][:10]"
   ]
  },
  {
   "cell_type": "markdown",
   "id": "5fc82173",
   "metadata": {},
   "source": [
    "Above we can see a NumPy array of the 10 words with the highest TF-IDF values."
   ]
  },
  {
   "cell_type": "markdown",
   "id": "a4f95a3b",
   "metadata": {},
   "source": [
    "### Linguistic Patterns"
   ]
  },
  {
   "cell_type": "markdown",
   "id": "4df1d367",
   "metadata": {},
   "source": [
    "* Design three linguistic patterns each for the following: dates, budget , origin and destination, and people (number of children + adults).\n",
    "* Retrieve the user utterance and wizard reply pairs from the `frames.json` file, and store them in a new `.json` file according to its intent.\n",
    "* Work out at least three linguistic patterns of the wizard replies for each intent."
   ]
  },
  {
   "cell_type": "markdown",
   "id": "9c0a21fb",
   "metadata": {},
   "source": [
    "#### Linguistic Patterns"
   ]
  },
  {
   "cell_type": "markdown",
   "id": "0f7724ce",
   "metadata": {},
   "source": [
    "Patterns for dates:\n",
    "\n",
    "* 03/03/1998\n",
    "* 3(rd) (of) March\n",
    "* March 3(rd)"
   ]
  },
  {
   "cell_type": "code",
   "execution_count": 35,
   "id": "87d0df68",
   "metadata": {},
   "outputs": [],
   "source": [
    "# DATE PATTERNS\n",
    "pat_date1 = [{\"TEXT\":{\"REGEX\":\"^(0?[1-9]|[12][0-9]|3[01])[\\/\\-](0?[1-9]|1[012])[\\/\\-]\\d{4}$\"}}]\n",
    "# Regex matches 1-2 digits, which may be followed by a 2 letter combo of \"stndrh\"\n",
    "# , for \"st\", \"nd\", \"rd\" and \"th\"\n",
    "pat_date2 = [{\"TEXT\":{\"REGEX\":\"\\d{1,2}(?:[stndrh]){2}?\"}}, {\"LOWER\":\"of\", \"OP\":\"?\"}, {\"POS\":\"PROPN\"}]\n",
    "pat_date3 = [{\"POS\":\"PROPN\"}, {\"TEXT\":{\"REGEX\":\"\\d{1,2}(?:[stndrh]){2}?\"}}]"
   ]
  },
  {
   "cell_type": "markdown",
   "id": "afee076c",
   "metadata": {},
   "source": [
    "Patterns for budget:\n",
    "\n",
    "* \"... \\\\$1700(.00) ...\"\n",
    "* \"... 1000 ...\" (greater than 100 if no dollar sign)\n",
    "\n",
    "Assuming budget will never be less than 100, and children never higher than 100"
   ]
  },
  {
   "cell_type": "code",
   "execution_count": 36,
   "id": "e14fe87d",
   "metadata": {},
   "outputs": [],
   "source": [
    "# BUDGET PATTERNS\n",
    "pat_budg1 = [{\"TEXT\":\"$\"}, {\"POS\":\"NUM\"}]\n",
    "# Regex matches 3 digits\n",
    "pat_budg2 = [{\"TEXT\":{\"REGEX\":\"\\d{3,}\"}}]"
   ]
  },
  {
   "cell_type": "markdown",
   "id": "56cdba69",
   "metadata": {},
   "source": [
    "Patterns for origin/destination:\n",
    "\n",
    "* \"... Perth ...\" (Just a location name)\n",
    "* \"... to/visit Adelaide ...\" (Destination)\n",
    "* \"... from/leaving Perth ...\" (Origin)"
   ]
  },
  {
   "cell_type": "code",
   "execution_count": 37,
   "id": "ed2d179f",
   "metadata": {},
   "outputs": [],
   "source": [
    "# ORIGIN / DESTINATION PATTERNS\n",
    "pat_loc = [{\"ENT_TYPE\":\"GPE\"}]\n",
    "# \"at\" covers \"holiday at ...\", \"arrive at ...\", etc.\n",
    "pat_dst = [{\"LEMMA\":{\"IN\":[\"to\", \"visit\", \"at\"]}}, {\"ENT_TYPE\":\"GPE\", \"OP\":\"+\"}]\n",
    "# \"of\" covers \"out of\", etc.\n",
    "pat_ori = [{\"LEMMA\":{\"IN\":[\"from\", \"leave\", \"of\"]}}, {\"ENT_TYPE\":\"GPE\", \"OP\":\"+\"}]"
   ]
  },
  {
   "cell_type": "markdown",
   "id": "74e94419",
   "metadata": {},
   "source": [
    "Patterns for number of people:\n",
    "\n",
    "* \"... 3 children ...\"\n",
    "* \"... 3 adults ...\"\n",
    "* \"... 3 people ...\""
   ]
  },
  {
   "cell_type": "code",
   "execution_count": 38,
   "id": "9134c1e3",
   "metadata": {},
   "outputs": [],
   "source": [
    "# NUMBER OF PEOPLE PATTERNS\n",
    "pat_nadult = [{\"POS\":\"NUM\"}, {\"LEMMA\":\"adult\"}]\n",
    "pat_nchild = [{\"POS\":\"NUM\"}, {\"LEMMA\":\"child\"}]\n",
    "pat_npeopl = [{\"POS\":\"NUM\"}, {\"LEMMA\":\"people\"}]"
   ]
  },
  {
   "cell_type": "markdown",
   "id": "f75c8e47",
   "metadata": {},
   "source": [
    "#### Retrieve and Save Utterance Pairs"
   ]
  },
  {
   "cell_type": "code",
   "execution_count": 39,
   "id": "ef8febc1",
   "metadata": {},
   "outputs": [],
   "source": [
    "from collections import defaultdict\n",
    "import json\n",
    "\n",
    "pair_dict = defaultdict(list)\n",
    "\n",
    "for dialogue in df.turns:\n",
    "    for i in range(0, len(dialogue), 2):\n",
    "        if dialogue[i] is None:\n",
    "            break\n",
    "            \n",
    "        acts = dialogue[i][\"labels\"][\"acts\"]\n",
    "        if i+1==len(dialogue):\n",
    "            pair = [dialogue[i][\"text\"], None]\n",
    "        else:\n",
    "            pair = [dialogue[i][\"text\"], dialogue[i+1][\"text\"]]\n",
    "        \n",
    "        if acts != []:\n",
    "            pair_dict[acts[0][\"name\"]].append(pair)\n",
    "        else:\n",
    "            pair_dict[\"no_intent\"].append(pair)\n",
    "        \n",
    "with open(\"intentdata.json\", \"w\", encoding=\"utf-8\") as fp:\n",
    "    json.dump(pair_dict, fp, indent=2)"
   ]
  },
  {
   "cell_type": "markdown",
   "id": "64fa88af",
   "metadata": {},
   "source": [
    "#### Linguistic Patterns for Wizard"
   ]
  },
  {
   "cell_type": "markdown",
   "id": "42606e49",
   "metadata": {},
   "source": [
    "For each intent, we must find linguistic patterns of the wizard's replies. \n",
    "\n",
    "From what I can see, there isn't really any general linguistic patterns that will cover the majority of the wizard's replies, so I will just try and find ones that match with as many as I can find.\n",
    "\n",
    "Also, the assignment outline is a bit confusing here, so I will be using the intents defined by the dialogue acts, since there is only 1 type of actual intent, \"book\". Because of this, if I were to write 3 linguistic patterns for each of the 13 different dialogue acts saved to the `.json` file it would take quite a long time to complete. Luckily there is a lot of crossover between the different intents/dialogue acts, so I will explicitly mention the crossover below, and use that explaination as one of the 3 linguistic patterns.\n",
    "\n",
    "Below is the list of intents saved to the `.json` file:"
   ]
  },
  {
   "cell_type": "code",
   "execution_count": 40,
   "id": "14dd36e1",
   "metadata": {
    "scrolled": true
   },
   "outputs": [
    {
     "data": {
      "text/plain": [
       "dict_keys(['inform', 'thankyou', 'negate', 'switch_frame', 'request', 'affirm', 'goodbye', 'request_compare', 'greeting', 'request_alts', 'no_intent', 'moreinfo', 'confirm'])"
      ]
     },
     "execution_count": 40,
     "metadata": {},
     "output_type": "execute_result"
    }
   ],
   "source": [
    "pair_dict.keys()"
   ]
  },
  {
   "cell_type": "markdown",
   "id": "750c7758",
   "metadata": {},
   "source": [
    "We will load the new json formatted data into corpora for each intent."
   ]
  },
  {
   "cell_type": "code",
   "execution_count": 41,
   "id": "a279dc17",
   "metadata": {},
   "outputs": [],
   "source": [
    "wiz_intent_corpus = []\n",
    "\n",
    "for intent in pair_dict.keys():\n",
    "    temp_corpus = list(nlp.pipe([x[1] for x in pair_dict[intent] if x[1] is not None]))\n",
    "    wiz_intent_corpus.append(temp_corpus)"
   ]
  },
  {
   "cell_type": "markdown",
   "id": "402a4980",
   "metadata": {},
   "source": [
    "We will also be using a dependency matcher, since it will be impossible match multiple different structures of sentence to the same questions just using a regular matcher"
   ]
  },
  {
   "cell_type": "markdown",
   "id": "e0a0e243",
   "metadata": {},
   "source": [
    "\"Inform\" patterns form the vast majority of patterns, so I will define more than 3 to make up for the less than 3 that some of the othere intents have."
   ]
  },
  {
   "cell_type": "code",
   "execution_count": 42,
   "id": "2371d58c",
   "metadata": {},
   "outputs": [],
   "source": [
    "# Budget pattern, root has children \"budget\" and \"?\"\n",
    "pat_inf_budget = [{\"RIGHT_ID\":\"root\",\n",
    "               \"RIGHT_ATTRS\":{\"DEP\":\"ROOT\"}},\n",
    "              # root has right child: budget, and \"?\"\n",
    "              {\"LEFT_ID\":\"root\",\n",
    "               \"REL_OP\":\">\",\n",
    "               \"RIGHT_ID\":\"budget\",\n",
    "               \"RIGHT_ATTRS\":{\"LEMMA\":\"budget\"}},\n",
    "              {\"LEFT_ID\":\"root\",\n",
    "               \"REL_OP\":\">\",\n",
    "               \"RIGHT_ID\":\"question\",\n",
    "               \"RIGHT_ATTRS\":{\"LEMMA\":\"?\"}}]\n",
    "pat_inf_hmp = [{\"RIGHT_ID\":\"root\",\n",
    "                      \"RIGHT_ATTRS\":{\"DEP\":\"ROOT\"}},\n",
    "                      # root has right child: budget, and \"?\"\n",
    "                     {\"LEFT_ID\":\"root\",\n",
    "                      \"REL_OP\":\">\",\n",
    "                      \"RIGHT_ID\":\"budget\",\n",
    "                      \"RIGHT_ATTRS\":{\"LEMMA\":{\"IN\":[\"children\", \"adult\", \"people\"]}}},\n",
    "                     {\"LEFT_ID\":\"root\",\n",
    "                      \"REL_OP\":\">\",\n",
    "                      \"RIGHT_ID\":\"question\",\n",
    "                      \"RIGHT_ATTRS\":{\"LEMMA\":\"?\"}}]\n",
    "# Confirm booking\n",
    "pat_inf_conf = [{\"RIGHT_ID\":\"root\",\n",
    "               \"RIGHT_ATTRS\":{\"DEP\":\"ROOT\"}},\n",
    "              # root has right child: book, and \"?\"\n",
    "              {\"LEFT_ID\":\"root\",\n",
    "               \"REL_OP\":\">\",\n",
    "               \"RIGHT_ID\":\"book\",\n",
    "               \"RIGHT_ATTRS\":{\"LEMMA\":\"book\"}},\n",
    "              {\"LEFT_ID\":\"root\",\n",
    "               \"REL_OP\":\">\",\n",
    "               \"RIGHT_ID\":\"question\",\n",
    "               \"RIGHT_ATTRS\":{\"LEMMA\":\"?\"}}]\n",
    "# Reject inquiry\n",
    "pat_inf_rej = [{\"LEMMA\":\"no\"},\n",
    "              {\"LEMMA\":\"trip\"},\n",
    "              {\"LEMMA\":\"avaliable\"}]\n",
    "\n",
    "pat_inf_dst = [{\"LEMMA\":{\"IN\":[\"to\", \"visit\", \"at\"]}}, {\"ENT_TYPE\":\"GPE\"}]\n",
    "pat_inf_ori = [{\"LEMMA\":{\"IN\":[\"from\", \"leave\", \"of\"]}}, {\"ENT_TYPE\":\"GPE\"}]"
   ]
  },
  {
   "cell_type": "markdown",
   "id": "3d94b4e0",
   "metadata": {},
   "source": [
    "\"Thankyou\" patterns seem to be very simple:"
   ]
  },
  {
   "cell_type": "code",
   "execution_count": 43,
   "id": "2eaa219c",
   "metadata": {},
   "outputs": [],
   "source": [
    "pat_pleasure = [{\"LEMMA\":\"pleasure\"}]\n",
    "# Have a good day/trip etc.\n",
    "pat_haveagood = [{\"LEMMA\":\"have\"},\n",
    "                 {\"LEMMA\":\"a\"},\n",
    "                 {\"LEMMA\":\"good\"}]\n",
    "# You are welcome/you're welcome\n",
    "# No other situations where wizard would say welcome\n",
    "pat_welcome = [{\"LEMMA\":\"welcome\"}]"
   ]
  },
  {
   "cell_type": "markdown",
   "id": "1e8f1d79",
   "metadata": {},
   "source": [
    "\"Negate\" patterns are usually responses to a rejected suggestion. There is a bit of crossover here with inform as the wizard follows up with a question about different dates/budgets etc.\n",
    "\n",
    "Patterns:"
   ]
  },
  {
   "cell_type": "code",
   "execution_count": 44,
   "id": "7c3d6747",
   "metadata": {},
   "outputs": [],
   "source": [
    "# Wizard replies sometimes with alternate booking\n",
    "pat_icanbook = [{\"LEMMA\":\"i\"},\n",
    "                {\"LEMMA\":\"can\"},\n",
    "                {\"LEMMA\":\"book\"}]\n",
    "# Suggestion\n",
    "pat_howabout = [{\"LEMMA\":\"how\"},\n",
    "                {\"LEMMA\":\"about\"}]"
   ]
  },
  {
   "cell_type": "markdown",
   "id": "1380aef2",
   "metadata": {},
   "source": [
    "\"switch_frame\" is almost exactly the  same as \"inform\", since the wizard creates a new frame the user might as well have started a new conversation. This intent covers information about budget, confirmation and rejection replies, so I will be using the same patterns as \"inform\"."
   ]
  },
  {
   "cell_type": "markdown",
   "id": "6729590d",
   "metadata": {},
   "source": [
    "\"request\" patterns:"
   ]
  },
  {
   "cell_type": "code",
   "execution_count": 45,
   "id": "88532dba",
   "metadata": {},
   "outputs": [],
   "source": [
    "# request for rating of hotel\n",
    "pat_stars = [{\"LEMMA\":\"star\"},\n",
    "             {\"LEMMA\":\"rating\"}]\n",
    "pat_leave = [{\"LEMMA\":\"you\"},\n",
    "             {\"LEMMA\":{\"IN\":[\"will\", \"would\"]}},\n",
    "             {\"LEMMA\":\"leave\"}]\n",
    "# The wizard wouldn's say these words unless\n",
    "# it was telling the user they were included\n",
    "pat_free = [{\"LEMMA\":\"free\"},\n",
    "            {\"LEMMA\":{\"IN\":[\"spa\", \"wifi\", \"pool\", \"parking\", \"breakfast\"]}}]"
   ]
  },
  {
   "cell_type": "markdown",
   "id": "aa78ab9f",
   "metadata": {},
   "source": [
    "\"affirm\" patterns means the user has said yes to something. Most of the time it is the user agreeing to a booking, but sometimes they just say yes.\n",
    "\n",
    "I will make a pattern for a booked trip, most of the remaining wizard replies are covered by the \"inform\" patterns once again, since the wizard is replying to an eager customer."
   ]
  },
  {
   "cell_type": "code",
   "execution_count": 46,
   "id": "7acc921f",
   "metadata": {},
   "outputs": [],
   "source": [
    "# Booked in past tense is only used by wizard if actually booked\n",
    "pat_booked = [{\"LOWER\":\"booked\"}]"
   ]
  },
  {
   "cell_type": "markdown",
   "id": "a43de943",
   "metadata": {},
   "source": [
    "\"goodbye\" pattern:"
   ]
  },
  {
   "cell_type": "code",
   "execution_count": 47,
   "id": "ca73145e",
   "metadata": {},
   "outputs": [],
   "source": [
    "pat_goodbye = [{\"LOWER\":\"goodbye\"}]"
   ]
  },
  {
   "cell_type": "markdown",
   "id": "f7d914c8",
   "metadata": {},
   "source": [
    "\"request_compare\" patterns:"
   ]
  },
  {
   "cell_type": "markdown",
   "id": "d6acd44f",
   "metadata": {},
   "source": [
    "Request compare doesn't seem to have a unique pattern either. It's a similar situation to \"switch_frame\""
   ]
  },
  {
   "cell_type": "markdown",
   "id": "6d73592e",
   "metadata": {},
   "source": [
    "\"greeting\" patterns are usually an actual greeting as a response, but if not it is usually covered by the \"inform\" patterns again."
   ]
  },
  {
   "cell_type": "code",
   "execution_count": 48,
   "id": "561c57e9",
   "metadata": {},
   "outputs": [],
   "source": [
    "pat_hello = [{\"LOWER\":{\"IN\":[\"hello\", \"hi\", \"hey\"]}}]\n",
    "# how can i help/what can i do\n",
    "pat_cani = [{\"LOWER\":{\"IN\":[\"what\", \"how\"]}},\n",
    "            {\"LOWER\":\"can\"},\n",
    "            {\"LOWER\":\"i\"},\n",
    "            {\"LOWER\":{\"IN\":[\"do\", \"help\"]}}]"
   ]
  },
  {
   "cell_type": "markdown",
   "id": "d50faccc",
   "metadata": {},
   "source": [
    "\"request_alts\" patterns"
   ]
  },
  {
   "cell_type": "markdown",
   "id": "8d04b22d",
   "metadata": {},
   "source": [
    "This is basically the same patterns as \"inform\", since the alternative options will be described in the same way as the initial options."
   ]
  },
  {
   "cell_type": "markdown",
   "id": "606dc3ab",
   "metadata": {},
   "source": [
    "\"no_intent\" patterns are mostly covered by inform patterns, since it seems like they mostly relate to confirming a booking. Some replies are apologies from the wizard, but I can't think of a way to distinguish the apologies here from the ones in \"request\", where the wizard couldn't find any results."
   ]
  },
  {
   "cell_type": "markdown",
   "id": "2dafcdaa",
   "metadata": {},
   "source": [
    "\"moreinfo\" is fully covered by the \"inform\" and \"request\" patterns."
   ]
  },
  {
   "cell_type": "markdown",
   "id": "8f6041af",
   "metadata": {},
   "source": [
    "\"confirm\" pattern is simply the user trying to confirm something."
   ]
  },
  {
   "cell_type": "code",
   "execution_count": 49,
   "id": "f3faffe4",
   "metadata": {},
   "outputs": [],
   "source": [
    "pat_yes = [{\"LOWER\":{\"IN\":[\"yes\", \"correct\"]}}]\n",
    "pat_no  = [{\"LOWER\":\"no\"}]"
   ]
  },
  {
   "cell_type": "markdown",
   "id": "c36a4644",
   "metadata": {},
   "source": [
    "### Chatbot Implementation and Deployment"
   ]
  },
  {
   "cell_type": "markdown",
   "id": "e342c6b7",
   "metadata": {},
   "source": [
    "* Design the intents that your bot can handle\n",
    "* Consider the use of a random list of answers for each intent\n",
    "* Use the designed linguistic patterns to parse user input and map to the relevant intent\n",
    "* Reply with an answer generated from the linguistic patterns extracted from the wizards.\n",
    "* Deploy on Telegram."
   ]
  },
  {
   "cell_type": "markdown",
   "id": "2a50e201",
   "metadata": {},
   "source": [
    "Here, I will redefine the term \"intent\".\n",
    "\n",
    "Previous to this section, \"intent\" was defined as the dialogue acts (\"inform\", \"request\", etc.), but upon coming to this point in this assignment, I can see that I should've had the defined as the attributes required to make a booking (\"date\", \"destination\", etc.). From this point, I will use this definition for intent, and will create new linguistic patterns as needed in the upcoming parts. However, within the old intents above there are a few linguistic patterns that can be used for the new definitions. I will discuss in the Markdown anything that needs clarification."
   ]
  },
  {
   "cell_type": "markdown",
   "id": "318c59b1",
   "metadata": {},
   "source": [
    "There is no indication in the outline that the bot has to be able to hold a conversation, or actually be a usable chatbot for the purpose of hotel bookings. As far as I am aware, all it needs to do is parse a user input, determine the intent, and respond in a similar way to the wizard in the `Frames` dataset. \n",
    "\n",
    "The bot that I have created is very simple, and simply responds to any user input. It is able to handle the intents date, location, number of people and budget (only one at a time), and then respond in the same way the wizard would if it were accepting the input as valid, and available as a hotel option. The bot can only handle one intent at a time, however this would be rather easy to change. Simply parse the user input for any matching patterns, get the intent from the matched patterns, and reply/save the information and continue the conversation. This bot is unable to remember anything, and there is no coversation flow, that can be implemented using the `ConversationHandler` class. I simply did not have enough time to implement these things."
   ]
  },
  {
   "cell_type": "markdown",
   "id": "ec938987",
   "metadata": {},
   "source": [
    "The name of the chatbot is `HotelBot` and the username `the_bot_that_books_hotels_bot`."
   ]
  },
  {
   "cell_type": "code",
   "execution_count": 50,
   "id": "ada10e6e",
   "metadata": {},
   "outputs": [
    {
     "name": "stdout",
     "output_type": "stream",
     "text": [
      "{'is_bot': True, 'first_name': 'HotelBot', 'id': 1960188621, 'username': 'the_bot_that_books_hotels_bot', 'supports_inline_queries': False, 'can_join_groups': True, 'can_read_all_group_messages': False}\n"
     ]
    }
   ],
   "source": [
    "import telegram\n",
    "bot_tok = \"1960188621:AAE7UX826swsxuwy_aV_R5dJqxrl7wLbI4A\"\n",
    "bot = telegram.Bot(token=bot_tok)\n",
    "print(bot.get_me())"
   ]
  },
  {
   "cell_type": "code",
   "execution_count": 71,
   "id": "4951d9a3",
   "metadata": {},
   "outputs": [],
   "source": [
    "matcher = Matcher(nlp.vocab)\n",
    "\n",
    "# Detect to or from dates\n",
    "patterns_todate = []\n",
    "for pat in [pat_date1, pat_date2, pat_date3]:\n",
    "    patterns_todate.append([{\"LEMMA\":{\"IN\":[\"until\", \"to\"]}}, {\"LEMMA\":\"the\", \"OP\":\"?\"}] + pat)\n",
    "\n",
    "matcher.add(\"date_to\", patterns_todate)\n",
    "\n",
    "patterns_fromdate = []\n",
    "for pat in [pat_date1, pat_date2, pat_date3]:\n",
    "    patterns_fromdate.append([{\"LEMMA\":\"from\"}, {\"LEMMA\":\"the\", \"OP\":\"?\"}] + pat)\n",
    "\n",
    "matcher.add(\"date_from\", patterns_fromdate)    \n",
    "\n",
    "# Detect GPE for origin and destination\n",
    "matcher.add(\"loc_dest\", [pat_dst], greedy=\"LONGEST\")\n",
    "matcher.add(\"loc_orig\", [pat_ori], greedy=\"LONGEST\")\n",
    "\n",
    "# Detect number of people\n",
    "matcher.add(\"num_adults\", [pat_nadult]) \n",
    "matcher.add(\"num_children\", [pat_nchild])\n",
    "matcher.add(\"num_people\", [pat_npeopl])\n",
    "\n",
    "# Detect budget\n",
    "matcher.add(\"budget\", [pat_budg1])"
   ]
  },
  {
   "cell_type": "code",
   "execution_count": 75,
   "id": "a8f208f6",
   "metadata": {},
   "outputs": [],
   "source": [
    "from telegram.ext import Updater, MessageHandler, Filters\n",
    "import random\n",
    "\n",
    "def extract_intent(doc):\n",
    "    # Find the intent: date, location, budget or people\n",
    "    # Can only handle one intent per utterance\n",
    "    matches = matcher(doc)\n",
    "    user_intent = \"\"\n",
    "    intent_info = {}\n",
    "    for match_id, start, end in matches:\n",
    "        match_name = nlp.vocab.strings[match_id]\n",
    "        user_intent = match_name.split(\"_\")[0]\n",
    "        \n",
    "        intent_info[match_name] = doc[start:end].text.lower()\n",
    "        \n",
    "    return user_intent, intent_info\n",
    "\n",
    "def utterance(update, context):\n",
    "    msg = update.message.text\n",
    "    doc = nlp(msg)\n",
    "    \n",
    "    intent, info = extract_intent(doc)\n",
    "    \n",
    "    update.message.reply_text(intent)\n",
    "    update.message.reply_text(info)\n",
    "    \n",
    "    # please, dont look any further\n",
    "    if intent == \"date\":\n",
    "        if \"date_to\" in info.keys():\n",
    "            if \"date_from\" in info.keys():\n",
    "                if random.randint(0, 1):\n",
    "                    update.message.reply_text(f\"Great! I have a few packages available for these dates. What's your budget?\")\n",
    "                else:\n",
    "                    update.message.reply_text(f\"Unfortunately I have nothing available for these dates. Can you leave at another date?\")\n",
    "            else:\n",
    "                update.message.reply_text(\"And what date would you like to arrive?\")\n",
    "        if \"date_from\" in info.keys():\n",
    "            if \"date_to\" not in info.keys():\n",
    "                update.message.reply_text(\"What date will you be heading home?\")\n",
    "        \n",
    "    if intent == \"loc\":\n",
    "        if \"loc_dest\" in info.keys():\n",
    "            if \"loc_orig\" in info.keys():\n",
    "                update.message.reply_text(f\"We have a 6 day trip available, would you like me to book now?\")\n",
    "            else:\n",
    "                update.message.reply_text(\"Please specify where you will leave from\")\n",
    "        if \"loc_orig\" in info.keys():\n",
    "            if \"loc_dest\" not in info.keys():\n",
    "                update.message.reply_text(\"Where do you want to go?\")\n",
    "        \n",
    "    if intent == \"budget\":\n",
    "        if \"budget\" in info.keys():\n",
    "            update.message.reply_text(f\"We have a couple trips available for less than {info['budget']}\")\n",
    "        \n",
    "    if intent == \"num\":\n",
    "        reply = \"Here are bookings for \"\n",
    "        if \"num_people\" in info.keys():\n",
    "            reply += str(info[\"num_people\"])\n",
    "        if \"num_adults\" in info.keys():\n",
    "            reply += str(info[\"num_adults\"])\n",
    "        if \"num_children\" in info.keys():\n",
    "            reply += \"and \" + str(info[\"num_children\"])\n",
    "        \n",
    "        update.message.reply_text(reply)\n",
    "        \n",
    "    if not intent:\n",
    "        update.message.reply_text(\"Unfortunately I could not understand your intent.\")\n",
    "        \n",
    "        \n",
    "# Telegram API instructions\n",
    "updater = Updater(bot_tok, use_context=True)\n",
    "updater.dispatcher.add_handler(MessageHandler(Filters.text, utterance))\n",
    "updater.start_polling()\n",
    "updater.idle()"
   ]
  },
  {
   "cell_type": "markdown",
   "id": "8dedba58",
   "metadata": {},
   "source": [
    "### Bonus"
   ]
  },
  {
   "cell_type": "markdown",
   "id": "feb9f989",
   "metadata": {},
   "source": [
    "Grammar induction in the `Frames` dataset."
   ]
  },
  {
   "cell_type": "markdown",
   "id": "89fdb63f",
   "metadata": {},
   "source": [
    "Grammar induction is a machine learning technique of learning formal grammar, or how to form valid words in a language, from a set of text. The frames dataset obviously has a lot of text in it, since there's around 6500 user turns. The `Frames` dataset should be a good source of text to train a finite-state machines, neural network, or some other generative machine learning model. Since the wizard was instructed to act like an AI or misinterpret the user sometimes, the stucture of the wizards sentences, or the relationship between the users message, and the wizards reply may be strange. However, I don't think this is a problem, for the most part the dataset consists of proper sentences, and correctly spelt words."
   ]
  }
 ],
 "metadata": {
  "kernelspec": {
   "display_name": "Python 3 (ipykernel)",
   "language": "python",
   "name": "python3"
  },
  "language_info": {
   "codemirror_mode": {
    "name": "ipython",
    "version": 3
   },
   "file_extension": ".py",
   "mimetype": "text/x-python",
   "name": "python",
   "nbconvert_exporter": "python",
   "pygments_lexer": "ipython3",
   "version": "3.8.10"
  }
 },
 "nbformat": 4,
 "nbformat_minor": 5
}
